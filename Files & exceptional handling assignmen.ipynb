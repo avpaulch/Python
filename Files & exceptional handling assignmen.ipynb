{
 "cells": [
  {
   "cell_type": "code",
   "execution_count": null,
   "id": "6967c42a-82c0-4736-8029-55679801d962",
   "metadata": {},
   "outputs": [],
   "source": [
    "#1.What is the difference between interpreted and compiled languages?\n",
    "\n",
    "The difference between interpreted and compiled languages lies in how their code is translated into machine-readable instructions:\n",
    "\n",
    "Compiled Languages\n",
    "Process: The source code is translated into machine code by a compiler before execution.\n",
    "Output: Produces a standalone executable file.\n",
    "Speed: Typically faster at runtime because the translation is done beforehand.\n",
    "Examples: C, C++, Rust, Go.\n",
    "\n",
    "Pros:\n",
    "\n",
    "High performance.\n",
    "Better optimization by the compiler.\n",
    "No need for the source code at runtime.\n",
    "Cons:\n",
    "\n",
    "Compilation step adds time before execution.\n",
    "Platform-dependent executables.\n",
    "\n",
    "Interpreted Languages\n",
    "Process: The source code is executed line-by-line by an interpreter at runtime.\n",
    "Output: No separate executable; the interpreter runs the code directly.\n",
    "Speed: Slower at runtime due to on-the-fly translation.\n",
    "Examples: Python, JavaScript, Ruby, PHP.\n",
    "Pros:\n",
    "\n",
    "Easier to debug and test.\n",
    "Platform-independent (as long as the interpreter is available).\n",
    "More flexible for scripting and rapid development.\n",
    "Cons:\n",
    "\n",
    "Slower execution.\n",
    "Requires the interpreter to be present on the system.\n",
    "\n",
    "Bonus: Some languages use both approaches!\n",
    "Java: Compiled to bytecode (via javac), then interpreted or JIT-compiled by the JVM.\n",
    "Python: Interpreted, but also compiles to bytecode (.pyc files) for performance."
   ]
  },
  {
   "cell_type": "code",
   "execution_count": null,
   "id": "2d9064c1-cdcc-4190-9f29-37f53a5dd38c",
   "metadata": {},
   "outputs": [],
   "source": [
    "#2.What is exception handling in Python?\n",
    "\n",
    "Exception handling in Python is a mechanism that allows you to gracefully manage errors that occur during the execution of a program, instead of letting the program crash.\n",
    "Why Use Exception Handling?\n",
    "To catch and respond to errors (like dividing by zero or accessing a missing file).\n",
    "To keep your program running smoothly even when unexpected issues arise.\n",
    "To provide meaningful error messages to users or log"
   ]
  },
  {
   "cell_type": "code",
   "execution_count": null,
   "id": "52ebb072-d602-423f-8c67-c29ca542adf2",
   "metadata": {},
   "outputs": [],
   "source": [
    "#3.What is the purpose of the finally block in exception handling?\n",
    "\n",
    "#The finally block in Python's exception handling is used to define a section of code that always executes, no matter what happens in the try or except blocks.\n",
    "#Purpose of the finally Block\n",
    "#To ensure cleanup actions are performed, such as:\n",
    "#Closing a file or database connection\n",
    "Releasing system resources\n",
    "Logging final status\n",
    "It runs regardless of whether:\n",
    "#An exception was raised or not\n",
    "#An exception was caught or not\n",
    "#A return, break, or continue was executed"
   ]
  },
  {
   "cell_type": "code",
   "execution_count": null,
   "id": "260121db-e25f-42fd-a546-a31b896f9fec",
   "metadata": {},
   "outputs": [],
   "source": [
    "#4.What is logging in Python?\n",
    "\n",
    "#Logging in Python is a built-in mechanism used to record messages that describe events happening during the execution of a program. It's especially useful for debugging, monitoring, and troubleshooting applications."
   ]
  },
  {
   "cell_type": "code",
   "execution_count": null,
   "id": "58dd4f74-fff6-4dcf-9ab6-60cd1f6e1899",
   "metadata": {},
   "outputs": [],
   "source": [
    "#5.What is the significance of the __del__ method in Python?\n",
    "\n",
    "#The __del__ method in Python is a special method known as a destructor. It is called automatically when an object is about to be destroyed, typically when it goes out of scope or is explicitly deleted using del."
   ]
  },
  {
   "cell_type": "code",
   "execution_count": null,
   "id": "ab8114fa-a0aa-4201-b1ce-40045068cae7",
   "metadata": {},
   "outputs": [],
   "source": [
    "#6. What is the difference between import and from ... import in Python?\n",
    "\n",
    "#In Python, both import and from ... import are used to bring external modules or specific components of modules into your program, but they work slightly differently:\n",
    "\n",
    "#import Statement\n",
    "Imports the entire module.\n",
    "#You must use the module name to access its functions or classes:\n",
    "\n",
    "#from ... import Statement\n",
    "#Imports specific functions, classes, or variables from a module.\n",
    "#You can use the imported item directly, without the module prefix:"
   ]
  },
  {
   "cell_type": "code",
   "execution_count": 4,
   "id": "315c4f23-df28-4b54-a263-3f05d2c97691",
   "metadata": {},
   "outputs": [
    {
     "name": "stdin",
     "output_type": "stream",
     "text": [
      "Enter a number:  0\n"
     ]
    },
    {
     "name": "stdout",
     "output_type": "stream",
     "text": [
      "Cannot divide by zero.\n"
     ]
    }
   ],
   "source": [
    "#7. How can you handle multiple exceptions in Python?\n",
    "#In Python, you can handle multiple exceptions using several approaches depending on your needs.\n",
    "\n",
    "#Multiple except Blocks\n",
    "#You can catch different exceptions separately and handle them differently:\n",
    "\n",
    "try:\n",
    "    value = int(input(\"Enter a number: \"))\n",
    "    result = 10 / value\n",
    "except ValueError:\n",
    "    print(\"Invalid input! Please enter a number.\")\n",
    "except ZeroDivisionError:\n",
    "    print(\"Cannot divide by zero.\")"
   ]
  },
  {
   "cell_type": "code",
   "execution_count": 5,
   "id": "02c269fa-9b18-425c-b40d-9d9ca0af0dd7",
   "metadata": {},
   "outputs": [
    {
     "name": "stdin",
     "output_type": "stream",
     "text": [
      "Enter a number:  0\n"
     ]
    },
    {
     "name": "stdout",
     "output_type": "stream",
     "text": [
      "Something went wrong with your input.\n"
     ]
    }
   ],
   "source": [
    "#Single except Block with a Tuple\n",
    "#If you want to handle multiple exceptions with the same response, you can group them:\n",
    "\n",
    "try:\n",
    "    value = int(input(\"Enter a number: \"))\n",
    "    result = 10 / value\n",
    "except (ValueError, ZeroDivisionError):\n",
    "    print(\"Something went wrong with your input.\")"
   ]
  },
  {
   "cell_type": "code",
   "execution_count": 6,
   "id": "c6966562-77f6-4e96-990a-2ef05c71bf17",
   "metadata": {},
   "outputs": [
    {
     "name": "stdout",
     "output_type": "stream",
     "text": [
      "An error occurred: name 'risky_operation' is not defined\n"
     ]
    }
   ],
   "source": [
    "#Catch-All with Exception\n",
    "#To catch any exception, use the base Exception class. This is useful for logging or fallback behavior:\n",
    "\n",
    "try:\n",
    "    risky_operation()\n",
    "except Exception as e:\n",
    "    print(f\"An error occurred: {e}\")"
   ]
  },
  {
   "cell_type": "code",
   "execution_count": 7,
   "id": "c96c6eda-8f7c-4674-be58-fc543ed7066c",
   "metadata": {},
   "outputs": [
    {
     "name": "stdin",
     "output_type": "stream",
     "text": [
      "Enter a number:  0\n"
     ]
    },
    {
     "name": "stdout",
     "output_type": "stream",
     "text": [
      "Division by zero.\n",
      "Execution complete.\n"
     ]
    }
   ],
   "source": [
    "#Using else and finally\n",
    "#You can combine multiple except blocks with else and finally for full control:\n",
    "try:\n",
    "    value = int(input(\"Enter a number: \"))\n",
    "    result = 10 / value\n",
    "except ValueError:\n",
    "    print(\"Not a number.\")\n",
    "except ZeroDivisionError:\n",
    "    print(\"Division by zero.\")\n",
    "else:\n",
    "    print(f\"Result is {result}\")\n",
    "finally:\n",
    "    print(\"Execution complete.\")"
   ]
  },
  {
   "cell_type": "code",
   "execution_count": null,
   "id": "151048de-d402-41e4-bd0e-29c0e4dbd813",
   "metadata": {},
   "outputs": [],
   "source": [
    "#8. What is the purpose of the with statement when handling files in Python?\n",
    "\n",
    "#The with statement in Python is used to simplify resource management, especially when working with files. It ensures that resources like file handles are properly acquired and released, even if errors occur during processing.\n",
    "\n",
    "Purpose of the with Statement\n",
    "Automatically opens and closes files.\n",
    "Prevents resource leaks (e.g., forgetting to close a file).\n",
    "Makes code cleaner and more readable.\n",
    "Handles exceptions gracefully."
   ]
  },
  {
   "cell_type": "code",
   "execution_count": null,
   "id": "b8ea5569-7fac-4992-914c-8cea7f15933f",
   "metadata": {},
   "outputs": [],
   "source": [
    "#9. What is the difference between multithreading and multiprocessing?\n",
    "\n",
    "#The difference between multithreading and multiprocessing lies in how they handle concurrency and utilize system resources:\n",
    "\n",
    "Multithreading\n",
    "Definition: Multiple threads within a single process share the same memory space.\n",
    "Use Case: Ideal for tasks that are I/O-bound (e.g., reading files, network operations).\n",
    "Memory Usage: Threads share memory, so it's more memory-efficient.\n",
    "Speed: Faster context switching between threads.\n",
    "Limitation: In languages like Python, the Global Interpreter Lock (GIL) can prevent true parallel execution of threads on multiple cores.\n",
    "\n",
    "Multiprocessing\n",
    "Definition: Multiple processes run independently, each with its own memory space.\n",
    "Use Case: Best for CPU-bound tasks (e.g., heavy computations).\n",
    "Memory Usage: Higher memory usage due to separate memory spaces.\n",
    "Speed: Slower context switching, but can achieve true parallelism.\n",
    "Advantage: Bypasses the GIL in Python, allowing full use of multiple CPU cores."
   ]
  },
  {
   "cell_type": "code",
   "execution_count": null,
   "id": "15d7227d-93bb-4855-8f79-fffb3f72d7a6",
   "metadata": {},
   "outputs": [],
   "source": [
    "#10. What are the advantages of using logging in a program?\n",
    "\n",
    "Using logging in a program offers several key advantages that help with development, debugging, and maintenance:\n",
    "\n",
    "Advantages of Logging\n",
    "Debugging Support\n",
    "\n",
    "Logs provide detailed information about the program's execution, helping developers identify and fix bugs more efficiently.\n",
    "Monitoring and Maintenance\n",
    "\n",
    "Logs can be used to monitor the health and performance of applications in production, making it easier to detect issues early.\n",
    "Audit Trails\n",
    "\n",
    "Logging creates a record of events and actions, which is useful for security audits and compliance tracking.\n",
    "Error Tracking\n",
    "\n",
    "Logs capture exceptions and errors, allowing developers to understand what went wrong and under what conditions.\n",
    "Performance Analysis\n",
    "\n",
    "By logging execution times and resource usage, developers can identify bottlenecks and optimize performance.\n",
    "User Behavior Insights\n",
    "\n",
    "Logging user actions can help in understanding usage patterns and improving user experience.\n",
    "Non-Intrusive\n",
    "\n",
    "Logging does not interfere with the normal flow of the program and can be configured to different levels (e.g., DEBUG, INFO, WARNING, ERROR, CRITICAL).\n",
    "Customizability\n",
    "\n",
    "Most logging frameworks allow customization of log formats, destinations (file, console, remote server), and filtering by severity."
   ]
  },
  {
   "cell_type": "code",
   "execution_count": null,
   "id": "2328bd20-e40d-4921-99a2-d53220f59c10",
   "metadata": {},
   "outputs": [],
   "source": [
    "#11. What is memory management in Python?\n",
    "\n",
    "Memory management in Python refers to the way Python handles the allocation, usage, and deallocation of memory during the execution of a program. Python uses several mechanisms to manage memory efficiently and automatically."
   ]
  },
  {
   "cell_type": "code",
   "execution_count": null,
   "id": "3b68b01c-a11e-49a7-9586-3fac6366dcc3",
   "metadata": {},
   "outputs": [],
   "source": [
    "#12. What are the basic steps involved in exception handling in Python?\n",
    "\n",
    "#In Python, exception handling is a structured way to manage errors that occur during program execution. It helps prevent crashes and allows the program to respond gracefully to unexpected situations."
   ]
  },
  {
   "cell_type": "code",
   "execution_count": 15,
   "id": "ccf6d76f-d3e7-4b12-9740-e391531527b0",
   "metadata": {},
   "outputs": [
    {
     "name": "stdout",
     "output_type": "stream",
     "text": [
      "Cannot divide by zero!\n"
     ]
    }
   ],
   "source": [
    "#asic Steps in Exception Handling\n",
    "#Try Block\n",
    "\n",
    "#Write the code that might raise an exception inside a try block.\n",
    "try:\n",
    "    result = 10 / 0\n",
    "except ZeroDivisionError:\n",
    "    print(\"Cannot divide by zero!\")"
   ]
  },
  {
   "cell_type": "code",
   "execution_count": 13,
   "id": "14e53021-30c5-410f-ab26-434171f08923",
   "metadata": {},
   "outputs": [
    {
     "name": "stdout",
     "output_type": "stream",
     "text": [
      "Cannot divide by zero!\n"
     ]
    }
   ],
   "source": [
    "#Except Block\n",
    "\n",
    "#Handle the exception using one or more except blocks. You can catch specific exceptions or use a general one.\n",
    "\n",
    "try:\n",
    "    result = 10 / 0\n",
    "except ZeroDivisionError:\n",
    "    print(\"Cannot divide by zero!\")"
   ]
  },
  {
   "cell_type": "code",
   "execution_count": 16,
   "id": "9f9d4b49-3ea3-44ab-a42b-ea4194bc2bdf",
   "metadata": {},
   "outputs": [
    {
     "name": "stdout",
     "output_type": "stream",
     "text": [
      "Division successful!\n"
     ]
    }
   ],
   "source": [
    "#Else Block (Optional)\n",
    "\n",
    "#Executes if no exception occurs in the try block.\n",
    "\n",
    "try:\n",
    "    result = 10 / 2\n",
    "except ZeroDivisionError:\n",
    "    print(\"Cannot divide by zero!\")\n",
    "else:\n",
    "    print(\"Division successful!\")"
   ]
  },
  {
   "cell_type": "code",
   "execution_count": 18,
   "id": "dba68d72-da53-4457-9b78-f1c6a4b09c7c",
   "metadata": {},
   "outputs": [
    {
     "name": "stdout",
     "output_type": "stream",
     "text": [
      "Execution complete.\n"
     ]
    }
   ],
   "source": [
    "#Finally Block (Optional)\n",
    "\n",
    "#Executes no matter what, whether an exception occurred or not. Useful for cleanup actions like closing files or releasing resources.\n",
    "\n",
    "try:\n",
    "    result = 10 / 2\n",
    "except ZeroDivisionError:\n",
    "    print(\"Cannot divide by zero!\")\n",
    "finally:\n",
    "    print(\"Execution complete.\")"
   ]
  },
  {
   "cell_type": "code",
   "execution_count": 19,
   "id": "1ec9e80c-4d19-44e2-9cb1-0cba660fbcc8",
   "metadata": {},
   "outputs": [
    {
     "name": "stdin",
     "output_type": "stream",
     "text": [
      "Enter a number:  0\n"
     ]
    },
    {
     "name": "stdout",
     "output_type": "stream",
     "text": [
      "Cannot divide by zero!\n",
      "Program finished.\n"
     ]
    }
   ],
   "source": [
    "#Full Example\n",
    "\n",
    "try:\n",
    "    number = int(input(\"Enter a number: \"))\n",
    "    result = 10 / number\n",
    "except ValueError:\n",
    "    print(\"Invalid input! Please enter a number.\")\n",
    "except ZeroDivisionError:\n",
    "    print(\"Cannot divide by zero!\")\n",
    "else:\n",
    "    print(\"Result is:\", result)\n",
    "finally:\n",
    "    print(\"Program finished.\")"
   ]
  },
  {
   "cell_type": "code",
   "execution_count": null,
   "id": "8f6d7581-e19b-4df2-ab08-2ece5dcad9bc",
   "metadata": {},
   "outputs": [],
   "source": [
    "#13. Why is memory management important in Python?\n",
    "\n",
    "Memory management is important in Python for several key reasons:\n",
    "\n",
    "Efficient Resource Utilization\n",
    "Python programs often deal with large datasets, complex objects, and multiple processes. Proper memory management ensures that memory is allocated and deallocated efficiently, preventing unnecessary consumption and improving performance.\n",
    "\n",
    "Automatic Garbage Collection\n",
    "Python uses a built-in garbage collector to automatically reclaim memory occupied by objects that are no longer in use. This helps:\n",
    "\n",
    "Avoid memory leaks\n",
    "Reduce manual memory handling\n",
    "Simplify development\n",
    "\n",
    "Reference Counting\n",
    "Python tracks how many references point to an object. When the reference count drops to zero, the memory can be safely freed. This mechanism is fundamental to Python’s memory management and helps prevent dangling pointers.\n",
    "\n",
    "Avoiding Memory Leaks\n",
    "Even with automatic garbage collection, poor coding practices (like circular references or holding onto unused objects) can lead to memory leaks. Understanding memory management helps developers write cleaner, leak-free code.\n",
    "\n",
    "Performance Optimization\n",
    "Knowing how Python handles memory (e.g., object reuse, interning of small integers and strings) allows developers to write more efficient code, especially in memory-constrained environments.\n",
    "\n",
    "Scalability\n",
    "For large-scale applications, especially in data science, web development, or machine learning, efficient memory management is crucial to ensure scalability and responsiveness.\n"
   ]
  },
  {
   "cell_type": "code",
   "execution_count": null,
   "id": "d74d6f03-b278-46b8-a1f2-c586f1636876",
   "metadata": {},
   "outputs": [],
   "source": [
    "#14. What is the role of try and except in exception handling?\n",
    "\n",
    "Role of try and except:\n",
    "\n",
    "try Block\n",
    "This is where you write code that might raise an exception.\n",
    "Python will attempt to execute the code inside the try block.\n",
    "If no error occurs, the except block is skipped.\n",
    "\n",
    "except Block\n",
    "This catches and handles the exception if one occurs in the try block.\n",
    "You can specify the type of exception to catch (e.g., ZeroDivisionError, ValueError) or catch all exceptions using a generic except."
   ]
  },
  {
   "cell_type": "code",
   "execution_count": null,
   "id": "1a137052-681d-484a-a764-962f35811763",
   "metadata": {},
   "outputs": [],
   "source": [
    "#15.How does Python's garbage collection system work?\n",
    "\n",
    "Python’s garbage collection system is designed to automatically manage memory by reclaiming unused objects, helping prevent memory leaks and optimize performance.\n",
    "\n",
    "Reference Counting\n",
    "Every object in Python has a reference count, which tracks how many references point to it.\n",
    "When an object’s reference count drops to zero, it means no part of the program is using it anymore, so Python can safely delete it.\n",
    "\n",
    "Garbage Collector for Circular References\n",
    "Reference counting alone can’t handle circular references (e.g., two objects referencing each other).\n",
    "Python uses the gc module to detect and clean up these cycles.\n",
    "\n",
    "Generational Garbage Collection\n",
    "Python categorizes objects into three generations:\n",
    "\n",
    "Generation 0: Newly created objects.\n",
    "Generation 1: Objects that survived one garbage collection.\n",
    "Generation 2: Long-lived objects.\n",
    "\n",
    "Customization and Control\n",
    "You can interact with the garbage collector using the gc module:\n",
    "\n",
    "Enable/disable collection\n",
    "Set thresholds\n",
    "Inspect unreachable objects"
   ]
  },
  {
   "cell_type": "code",
   "execution_count": null,
   "id": "69d196e4-7aba-4a6d-8f01-c3ea88a6a459",
   "metadata": {},
   "outputs": [],
   "source": [
    "#16. What is the purpose of the else block in exception handling?\n",
    "\n",
    "The else block in Python’s exception handling is used to define code that should run only if no exceptions were raised in the try block. It helps separate error-free logic from error-handling logic, making your code cleaner and more readable.\n",
    "\n",
    "Purpose of the else Block\n",
    "Executes only if the try block succeeds (i.e., no exceptions occur).\n",
    "Skips execution if an exception is caught by the except block.\n",
    "Useful for code that should run only when everything goes smoothly."
   ]
  },
  {
   "cell_type": "code",
   "execution_count": null,
   "id": "fdc90505-993f-4dbe-8042-f825081a8c97",
   "metadata": {},
   "outputs": [],
   "source": [
    "#17. What are the common logging levels in Python?\n",
    "\n",
    "Python’s logging system provides a flexible way to track events that happen during program execution. The common logging levels define the severity of the messages being logged. Here are the standard levels, from lowest to highest severity:\n",
    "\n",
    "DEBUG\n",
    "Purpose: Detailed information, typically useful for diagnosing problems.\n",
    "Use case: Internal state changes, variable values, function calls.\n",
    "Example: logging.debug(\"Starting loop with value x = %d\", x)\n",
    "\n",
    "INFO\n",
    "Purpose: Confirmation that things are working as expected.\n",
    "Use case: General events like successful startup, user login, etc.\n",
    "Example: logging.info(\"User logged in successfully.\")\n",
    "\n",
    "WARNING\n",
    "Purpose: Something unexpected happened, or an issue is likely to occur.\n",
    "Use case: Deprecated features, missing files, low disk space.\n",
    "Example: logging.warning(\"Disk space running low.\")\n",
    "\n",
    "ERROR\n",
    "Purpose: A more serious problem that prevented part of the program from functioning.\n",
    "Use case: Failed operations, exceptions caught.\n",
    "Example: logging.error(\"Failed to open database connection.\")\n",
    "\n",
    "CRITICAL\n",
    "Purpose: A very serious error, indicating the program may not be able to continue.\n",
    "Use case: System crashes, data loss, unrecoverable errors.\n",
    "Example: logging.critical(\"System crash imminent!\")"
   ]
  },
  {
   "cell_type": "code",
   "execution_count": null,
   "id": "f591467c-20fe-41aa-971f-7f37466051dc",
   "metadata": {},
   "outputs": [],
   "source": [
    "#18. What is the difference between os.fork() and multiprocessing in Python?\n",
    "\n",
    "Both os.fork() and the multiprocessing module in Python are used to create new processes, but they differ significantly in terms of platform compatibility, ease of use, and functionality.\n",
    "\n",
    "os.fork()\n",
    "What it does: Creates a child process by duplicating the current process.\n",
    "Platform: Unix/Linux only (not available on Windows).\n",
    "Low-level: Direct interface to the operating system’s process creation.\n",
    "Usage: Requires manual handling of process communication and synchronization.\n",
    "\n",
    "Pros:\n",
    "Lightweight and fast.\n",
    "Useful for simple process creation in Unix environments.\n",
    "❌ Cons:\n",
    "Not cross-platform.\n",
    "More error-prone and harder to manage.\n",
    "No built-in support for sharing data between processes.\n",
    "\n",
    "multiprocessing Module\n",
    "What it does: Provides a high-level API for creating and managing processes.\n",
    "Platform: Cross-platform (works on Windows, macOS, Linux).\n",
    "High-level: Abstracts away the complexity of process creation and communication.\n",
    "Features:\n",
    "Process pools\n",
    "Queues and Pipes for communication\n",
    "Shared memory\n",
    "Synchronization primitives (Locks, Events)\n",
    "Pros:\n",
    "Easy to use and maintain.\n",
    "Cross-platform compatibility.\n",
    "Built-in tools for inter-process communication and synchronization.\n",
    "Cons:\n",
    "Slightly more overhead than os.fork() due to abstraction.\n",
    "May be slower for very simple tasks compared to os.fork()."
   ]
  },
  {
   "cell_type": "code",
   "execution_count": null,
   "id": "20a17d89-8515-4fa0-96fa-2d9ae54fcaf1",
   "metadata": {},
   "outputs": [],
   "source": [
    "#19. What is the importance of closing a file in Python?\n",
    "\n",
    "Closing a file in Python is very important for several reasons related to resource management, data integrity, and system stability."
   ]
  },
  {
   "cell_type": "code",
   "execution_count": null,
   "id": "96eca3c6-8910-480a-8559-dd3176ce016d",
   "metadata": {},
   "outputs": [],
   "source": [
    "#20. What is the difference between file.read() and file.readline() in Python?\n",
    "\n",
    "In Python, file.read() and file.readline() are both used to read data from a file, but they serve different purposes and behave differently:\n",
    "\n",
    "file.read()\n",
    "Reads the entire file (or a specified number of bytes) into a single string.\n",
    "Useful when you want to process the whole file at once.\n",
    "Can be memory-intensive for large files.\n",
    "\n",
    "file.readline()\n",
    "Reads one line at a time from the file.\n",
    "Useful for processing files line-by-line, especially large ones.\n",
    "Returns a string ending with a newline character (\\n), unless it's the last line."
   ]
  },
  {
   "cell_type": "code",
   "execution_count": null,
   "id": "fef8ec0a-4afe-4ce3-910a-ed3fd9911148",
   "metadata": {},
   "outputs": [],
   "source": [
    "#21. What is the logging module in Python used for?\n",
    "\n",
    "The logging module in Python is used to record messages that describe events happening in a program. It’s a powerful tool for debugging, monitoring, and maintaining applications, especially in production environments."
   ]
  },
  {
   "cell_type": "code",
   "execution_count": null,
   "id": "04199eb0-8681-447e-ae2b-39bf3fd7d525",
   "metadata": {},
   "outputs": [],
   "source": [
    "#22. What is the os module in Python used for in file handling?\n",
    "\n",
    "The os module in Python is a built-in library that provides a way to interact with the operating system, and it's especially useful in file handling tasks."
   ]
  },
  {
   "cell_type": "code",
   "execution_count": null,
   "id": "6f48cef9-2a8c-4789-a561-5ed37a491ee0",
   "metadata": {},
   "outputs": [],
   "source": [
    "#23. What are the challenges associated with memory management in Python?\n",
    "\n",
    "Memory management in Python is mostly automatic, but it still comes with several challenges that developers should be aware of to write efficient and reliable code. Here are the key challenges:\n",
    "\n",
    "Circular References\n",
    "Python uses reference counting for memory management.\n",
    "However, if two or more objects reference each other (a circular reference), their reference count may never drop to zero.\n",
    "Python’s garbage collector can detect and clean these up, but it adds complexity and overhead.\n",
    "\n",
    "Garbage Collection Overhead\n",
    "The gc module periodically scans for unreachable objects.\n",
    "This process can introduce performance overhead, especially in large applications with many objects.\n",
    "\n",
    "Memory Leaks\n",
    "Even with automatic garbage collection, memory leaks can occur if:\n",
    "Objects are unintentionally kept alive (e.g., stored in global variables or caches).\n",
    "Developers forget to release resources like file handles or database connections.\n",
    "\n",
    "Fragmentation\n",
    "Python’s memory allocator may cause fragmentation, especially with many small objects.\n",
    "This can lead to inefficient memory usage and increased memory footprint over time.\n",
    "\n",
    "Lack of Manual Control\n",
    "Unlike languages like C or C++, Python doesn’t allow manual memory deallocation.\n",
    "This limits fine-grained control, which can be a challenge in performance-critical applications.\n",
    "\n",
    "Large Object Retention\n",
    "Objects like large lists, dictionaries, or NumPy arrays can consume a lot of memory.\n",
    "If not managed carefully, they can lead to out-of-memory errors, especially in long-running processes.\n",
    "\n",
    "Hidden References\n",
    "Sometimes references are held in places you might not expect (e.g., closures, decorators, or class-level attributes), making it hard to track memory usage."
   ]
  },
  {
   "cell_type": "code",
   "execution_count": null,
   "id": "a179f993-a725-4e66-9006-b044da753f8c",
   "metadata": {},
   "outputs": [],
   "source": [
    "#24. How do you raise an exception manually in Python?\n",
    "\n",
    "In Python, you can manually raise an exception using the raise statement. This is useful when you want to signal that something has gone wrong in your code, even if Python hasn’t automatically detected it."
   ]
  },
  {
   "cell_type": "code",
   "execution_count": null,
   "id": "9f865fc5-00d8-4de0-8fb7-ba7fe47ef272",
   "metadata": {},
   "outputs": [],
   "source": [
    "#25. Why is it important to use multithreading in certain applications?\n",
    "\n",
    "Multithreading is important in certain Python applications because it allows for concurrent execution of tasks, which can lead to better performance, responsiveness, and resource utilization—especially in I/O-bound scenarios"
   ]
  },
  {
   "cell_type": "code",
   "execution_count": null,
   "id": "9ae1a51b-6d17-40c2-acf2-e9b14be07d25",
   "metadata": {},
   "outputs": [],
   "source": []
  },
  {
   "cell_type": "code",
   "execution_count": null,
   "id": "a562bff2-a340-44f1-a4b1-caba1484faf0",
   "metadata": {},
   "outputs": [],
   "source": [
    "Practical Questions"
   ]
  },
  {
   "cell_type": "code",
   "execution_count": null,
   "id": "53a3d6a5-92d5-4b57-9d68-35e03932f935",
   "metadata": {},
   "outputs": [],
   "source": [
    "#1. How can you open a file for writing in Python and write a string to it?\n",
    "\n",
    "# Open the file in write mode\n",
    "with open('C:\\Users\\AVPAULCH\\OneDrive - Capgemini\\Desktop', 'w') as file:\n",
    "    file.write('Hello, world!')"
   ]
  },
  {
   "cell_type": "code",
   "execution_count": null,
   "id": "fe0c720a-3657-45e0-8857-244b2c1a4a72",
   "metadata": {},
   "outputs": [],
   "source": [
    "#2. Write a Python program to read the contents of a file and print each line?\n",
    "\n",
    "if __name__ == \"__main__\":\n",
    "    # Assuming 'sample.txt' exists in the same directory\n",
    "    read_and_print_file('sample.txt')\n",
    "    \n",
    "    # Example of a non-existent file\n",
    "    read_and_print_file('non_existent_file.txt')"
   ]
  },
  {
   "cell_type": "code",
   "execution_count": 1,
   "id": "16c01feb-4d16-412a-ba8b-057bae188451",
   "metadata": {},
   "outputs": [
    {
     "name": "stdout",
     "output_type": "stream",
     "text": [
      "Error: The file was not found. Please check the file path and name.\n"
     ]
    }
   ],
   "source": [
    "#3. How would you handle a case where the file doesn't exist while trying to open it for reading?\n",
    "\n",
    "try:\n",
    "    with open('non_existent_file.txt', 'r') as file:\n",
    "        # This code will not be reached if the file doesn't exist\n",
    "        print(file.read())\n",
    "except FileNotFoundError:\n",
    "    print(\"Error: The file was not found. Please check the file path and name.\")"
   ]
  },
  {
   "cell_type": "code",
   "execution_count": 3,
   "id": "896ff816-48df-47b5-91ef-a5c4b572a2d3",
   "metadata": {},
   "outputs": [
    {
     "name": "stdout",
     "output_type": "stream",
     "text": [
      "Content from 'source.txt' has been successfully copied to 'destination.txt'.\n"
     ]
    }
   ],
   "source": [
    "#4. Write a Python script that reads from one file and writes its content to another file.\n",
    "\n",
    "# Function to copy content from one file to another\n",
    "def copy_file_content(source_filename, destination_filename):\n",
    "    \"\"\"\n",
    "    Reads from a source file and writes its content to a destination file.\n",
    "\n",
    "    Args:\n",
    "        source_filename (str): The path to the file to be read.\n",
    "        destination_filename (str): The path to the file to be written to.\n",
    "    \"\"\"\n",
    "    try:\n",
    "        # Open the source file in read mode\n",
    "        with open(source_filename, 'r') as source_file:\n",
    "            # Read the entire content of the source file\n",
    "            content = source_file.read()\n",
    "\n",
    "        # Open the destination file in write mode\n",
    "        with open(destination_filename, 'w') as destination_file:\n",
    "            # Write the content to the destination file\n",
    "            destination_file.write(content)\n",
    "            \n",
    "        print(f\"Content from '{source_filename}' has been successfully copied to '{destination_filename}'.\")\n",
    "\n",
    "    except FileNotFoundError:\n",
    "        print(f\"Error: The source file '{source_filename}' was not found.\")\n",
    "    except Exception as e:\n",
    "        print(f\"An error occurred: {e}\")\n",
    "\n",
    "# Example usage:\n",
    "if __name__ == \"__main__\":\n",
    "    # Assuming 'source.txt' exists with some content\n",
    "    source_file_name = 'source.txt'\n",
    "    destination_file_name = 'destination.txt'\n",
    "\n",
    "    # Create a dummy source file for the example\n",
    "    with open(source_file_name, 'w') as f:\n",
    "        f.write(\"Hello, this is a test file.\\n\")\n",
    "        f.write(\"This content will be copied.\\n\")\n",
    "\n",
    "    copy_file_content(source_file_name, destination_file_name)"
   ]
  },
  {
   "cell_type": "code",
   "execution_count": 4,
   "id": "d88df443-0746-4dc2-b458-51c87bb3a3c3",
   "metadata": {},
   "outputs": [
    {
     "name": "stdout",
     "output_type": "stream",
     "text": [
      "The result is: 5.0\n",
      "Error: Cannot divide by zero.\n",
      "Error: Both arguments must be numbers.\n"
     ]
    }
   ],
   "source": [
    "#5. How would you catch and handle division by zero error in Python?\n",
    "\n",
    "def safe_division(numerator, denominator):\n",
    "    try:\n",
    "        result = numerator / denominator\n",
    "        print(f\"The result is: {result}\")\n",
    "    except ZeroDivisionError:\n",
    "        print(\"Error: Cannot divide by zero.\")\n",
    "    except TypeError:\n",
    "        print(\"Error: Both arguments must be numbers.\")\n",
    "    except Exception as e:\n",
    "        print(f\"An unexpected error occurred: {e}\")\n",
    "\n",
    "# Example calls\n",
    "safe_division(10, 2)\n",
    "safe_division(10, 0)\n",
    "safe_division(10, 'a')"
   ]
  },
  {
   "cell_type": "code",
   "execution_count": 5,
   "id": "80b6a8c5-7f49-486b-9fbc-2e689f866337",
   "metadata": {},
   "outputs": [
    {
     "name": "stdout",
     "output_type": "stream",
     "text": [
      "The result is: 5.0\n",
      "Error: Cannot divide by zero. The issue has been logged.\n"
     ]
    }
   ],
   "source": [
    "#6. Write a Python program that logs an error message to a log file when a division by zero exception occurs.\n",
    "\n",
    "import logging\n",
    "\n",
    "# Configure the logging\n",
    "logging.basicConfig(\n",
    "    filename='app_errors.log',  # Log file name\n",
    "    level=logging.ERROR,        # Set the logging level to ERROR\n",
    "    format='%(asctime)s - %(levelname)s - %(message)s'\n",
    ")\n",
    "\n",
    "def divide_numbers(a, b):\n",
    "    \"\"\"\n",
    "    Divides two numbers and logs an error if a ZeroDivisionError occurs.\n",
    "    \"\"\"\n",
    "    try:\n",
    "        result = a / b\n",
    "        print(f\"The result is: {result}\")\n",
    "    except ZeroDivisionError:\n",
    "        # Log the error to the file\n",
    "        logging.error(\"Attempted to divide by zero.\")\n",
    "        print(\"Error: Cannot divide by zero. The issue has been logged.\")\n",
    "\n",
    "# Example usage\n",
    "if __name__ == \"__main__\":\n",
    "    # This will succeed and print the result\n",
    "    divide_numbers(10, 2)\n",
    "\n",
    "    # This will cause a ZeroDivisionError and log it to the file\n",
    "    divide_numbers(10, 0)"
   ]
  },
  {
   "cell_type": "code",
   "execution_count": 7,
   "id": "c2ab27cf-2439-4377-8c7e-35b9a32ae28b",
   "metadata": {},
   "outputs": [],
   "source": [
    "#7. How do you log information at different levels (INFO, ERROR, WARNING) in Python using the logging module?\n",
    "\n",
    "import logging\n",
    "\n",
    "# Configure logging with a minimum level of INFO\n",
    "logging.basicConfig(\n",
    "    filename='application.log',\n",
    "    level=logging.INFO,\n",
    "    format='%(asctime)s - %(levelname)s - %(message)s'\n",
    ")\n",
    "\n",
    "def perform_operation(value):\n",
    "    try:\n",
    "        # Check if the value is a number before performing comparisons\n",
    "        if not isinstance(value, (int, float)):\n",
    "            raise TypeError(\"Input value must be a number.\")\n",
    "        \n",
    "        if value == 0:\n",
    "            logging.warning(\"The input value is zero. This might lead to unexpected behavior.\")\n",
    "        elif value < 0:\n",
    "            logging.error(\"Invalid input: The value cannot be negative.\")\n",
    "            return None\n",
    "        \n",
    "        result = 10 / value\n",
    "        logging.info(f\"Operation successful. Result: {result}\")\n",
    "        return result\n",
    "    except TypeError as e:\n",
    "        logging.error(f\"Invalid data type: {e}\")\n",
    "        return None\n",
    "    except ZeroDivisionError:\n",
    "        logging.critical(\"Fatal error: Division by zero occurred.\")\n",
    "        return None\n",
    "    except Exception as e:\n",
    "        logging.error(f\"An unexpected error occurred: {e}\")\n",
    "        return None\n",
    "\n",
    "if __name__ == \"__main__\":\n",
    "    logging.info(\"Application started.\")\n",
    "    perform_operation(5)\n",
    "    perform_operation(0)\n",
    "    perform_operation(-3)\n",
    "    perform_operation(\"a\")  # Now handled gracefully\n",
    "    logging.info(\"Application finished.\")"
   ]
  },
  {
   "cell_type": "code",
   "execution_count": 8,
   "id": "5bf0df9e-3ec4-4249-9151-645053c75ea0",
   "metadata": {},
   "outputs": [
    {
     "name": "stdout",
     "output_type": "stream",
     "text": [
      "Error: The file 'existing_file.txt' was not found.\n",
      "Please check the file name and path and try again.\n",
      "Error: The file 'non_existent_file.txt' was not found.\n",
      "Please check the file name and path and try again.\n"
     ]
    }
   ],
   "source": [
    "#8. Write a program to handle a file opening error using exception handling.\n",
    "\n",
    "def read_file_safely(filename):\n",
    "    \"\"\"\n",
    "    Attempts to open and read a file, handling FileNotFoundError.\n",
    "    \n",
    "    Args:\n",
    "        filename (str): The name of the file to be read.\n",
    "    \"\"\"\n",
    "    try:\n",
    "        # The 'try' block contains the code that might raise an exception.\n",
    "        with open(filename, 'r') as file:\n",
    "            content = file.read()\n",
    "            print(\"File opened successfully. Content:\")\n",
    "            print(content)\n",
    "            \n",
    "    except FileNotFoundError:\n",
    "        # The 'except' block catches the specific error.\n",
    "        print(f\"Error: The file '{filename}' was not found.\")\n",
    "        print(\"Please check the file name and path and try again.\")\n",
    "    except IOError:\n",
    "        # A broader exception for other I/O errors (e.g., permissions).\n",
    "        print(f\"Error: An I/O error occurred while trying to read '{filename}'.\")\n",
    "\n",
    "# Example of a successful call\n",
    "read_file_safely('existing_file.txt') \n",
    "\n",
    "# Example of a call that will raise a FileNotFoundError\n",
    "read_file_safely('non_existent_file.txt')"
   ]
  },
  {
   "cell_type": "code",
   "execution_count": 9,
   "id": "01086469-37c3-43cb-ab62-d1fcc0621b32",
   "metadata": {},
   "outputs": [
    {
     "name": "stdout",
     "output_type": "stream",
     "text": [
      "Error: The file 'sample.txt' was not found.\n",
      "[]\n"
     ]
    }
   ],
   "source": [
    "#9. How can you read a file line by line and store its content in a list in Python?\n",
    "\n",
    "def read_file_to_list_comprehension(filename):\n",
    "    \"\"\"Reads a file line by line and stores the content in a list using a list comprehension.\"\"\"\n",
    "    try:\n",
    "        with open(filename, 'r') as file:\n",
    "            return [line.strip() for line in file]\n",
    "    except FileNotFoundError:\n",
    "        print(f\"Error: The file '{filename}' was not found.\")\n",
    "        return []\n",
    "\n",
    "# Example Usage\n",
    "my_list_2 = read_file_to_list_comprehension('sample.txt')\n",
    "print(my_list_2)"
   ]
  },
  {
   "cell_type": "code",
   "execution_count": 10,
   "id": "c87551d3-aee6-444c-8dd6-6d0c21800761",
   "metadata": {},
   "outputs": [
    {
     "name": "stdout",
     "output_type": "stream",
     "text": [
      "Data successfully appended to the file.\n"
     ]
    }
   ],
   "source": [
    "#10. How can you append data to an existing file in Python?\n",
    "\n",
    "# The content you want to append\n",
    "new_data = \"\\nThis is a new line of text added to the file.\"\n",
    "\n",
    "# Open the file in append mode\n",
    "try:\n",
    "    with open('my_file.txt', 'a') as file:\n",
    "        file.write(new_data)\n",
    "    print(\"Data successfully appended to the file.\")\n",
    "except FileNotFoundError:\n",
    "    print(\"Error: The file was not found.\")\n"
   ]
  },
  {
   "cell_type": "code",
   "execution_count": 12,
   "id": "c9d1d44a-3985-4ea1-ad24-901838a2115a",
   "metadata": {},
   "outputs": [
    {
     "name": "stdout",
     "output_type": "stream",
     "text": [
      "The grade for Avi is: 95\n",
      "Error: The student 'Bishu' was not found in the dictionary.\n"
     ]
    }
   ],
   "source": [
    "#11. Write a Python program that uses a try-except block to handle an error when attempting to access a dictionary key that doesn't exist.\n",
    "\n",
    "def get_student_grade(student_grades, student_name):\n",
    "    \"\"\"\n",
    "    Retrieves a student's grade from a dictionary, handling non-existent keys.\n",
    "\n",
    "    Args:\n",
    "        student_grades (dict): A dictionary of student names and their grades.\n",
    "        student_name (str): The name of the student to look up.\n",
    "    \"\"\"\n",
    "    try:\n",
    "        grade = student_grades[student_name]\n",
    "        print(f\"The grade for {student_name} is: {grade}\")\n",
    "    except KeyError:\n",
    "        print(f\"Error: The student '{student_name}' was not found in the dictionary.\")\n",
    "\n",
    "# Sample dictionary\n",
    "grades = {\n",
    "    \"Avi\": 95,\n",
    "    \"Sayn\": 88,\n",
    "    \"Roshan\": 76\n",
    "}\n",
    "\n",
    "# Example of a successful lookup\n",
    "get_student_grade(grades, \"Avi\")\n",
    "\n",
    "# Example of an unsuccessful lookup, which will trigger the KeyError\n",
    "get_student_grade(grades, \"Bishu\")"
   ]
  },
  {
   "cell_type": "code",
   "execution_count": 13,
   "id": "2db9b86b-cace-4cfd-9916-c626a99c0025",
   "metadata": {},
   "outputs": [
    {
     "name": "stdout",
     "output_type": "stream",
     "text": [
      "The result of 10 / 5 is: 2.0\n",
      "Error: Cannot divide by zero.\n",
      "Please provide a non-zero denominator.\n",
      "Error: Invalid input types.\n",
      "Both numerator and denominator must be numbers.\n"
     ]
    }
   ],
   "source": [
    "#12. Write a program that demonstrates using multiple except blocks to handle different types of exceptions.\n",
    "\n",
    "def safe_division(numerator, denominator):\n",
    "    \"\"\"\n",
    "    Performs division and handles specific exceptions.\n",
    "    \"\"\"\n",
    "    try:\n",
    "        # This code might raise either a TypeError or a ZeroDivisionError\n",
    "        result = numerator / denominator\n",
    "        print(f\"The result of {numerator} / {denominator} is: {result}\")\n",
    "        \n",
    "    except ZeroDivisionError:\n",
    "        # Handles the case where the denominator is zero\n",
    "        print(\"Error: Cannot divide by zero.\")\n",
    "        print(\"Please provide a non-zero denominator.\")\n",
    "        \n",
    "    except TypeError:\n",
    "        # Handles the case where inputs are not numbers\n",
    "        print(\"Error: Invalid input types.\")\n",
    "        print(\"Both numerator and denominator must be numbers.\")\n",
    "\n",
    "# Example 1: Successful division\n",
    "safe_division(10, 5)\n",
    "\n",
    "# Example 2: Triggers ZeroDivisionError\n",
    "safe_division(10, 0)\n",
    "\n",
    "# Example 3: Triggers TypeError\n",
    "safe_division(10, \"a\")"
   ]
  },
  {
   "cell_type": "code",
   "execution_count": 14,
   "id": "16e27c51-69d2-4470-9247-5e95189f7444",
   "metadata": {},
   "outputs": [
    {
     "name": "stdout",
     "output_type": "stream",
     "text": [
      "The file 'my_file.txt' exists. Reading its content...\n",
      "\n",
      "This is a new line of text added to the file.\n"
     ]
    }
   ],
   "source": [
    "#13. How would you check if a file exists before attempting to read it in Python?\n",
    "\n",
    "import os\n",
    "\n",
    "filename = 'my_file.txt'\n",
    "\n",
    "if os.path.exists(filename):\n",
    "    print(f\"The file '{filename}' exists. Reading its content...\")\n",
    "    with open(filename, 'r') as file:\n",
    "        content = file.read()\n",
    "        print(content)\n",
    "else:\n",
    "    print(f\"Error: The file '{filename}' does not exist.\")"
   ]
  },
  {
   "cell_type": "code",
   "execution_count": 15,
   "id": "d2025f1f-bbcf-4ff3-94c2-920386fd6783",
   "metadata": {},
   "outputs": [
    {
     "name": "stdout",
     "output_type": "stream",
     "text": [
      "Running program to demonstrate logging...\n",
      "Processing successful. Result: 4.0\n",
      "--------------------\n",
      "Error: Cannot divide by zero.\n",
      "--------------------\n",
      "Error: Invalid data type.\n",
      "--------------------\n",
      "Program finished. Check 'application.log' for details.\n"
     ]
    }
   ],
   "source": [
    "#14. Write a program that uses the logging module to log both informational and error messages.\n",
    "\n",
    "import logging\n",
    "\n",
    "# 1. Configure the logger\n",
    "# This sets up the logging system. We specify the log file, the minimum level\n",
    "# to log, and the format of each log message.\n",
    "logging.basicConfig(\n",
    "    filename='application.log', # The file to which logs will be written\n",
    "    level=logging.INFO,         # The minimum logging level to capture (INFO and above)\n",
    "    format='%(asctime)s - %(levelname)s - %(message)s'\n",
    ")\n",
    "\n",
    "def process_data(data):\n",
    "    \"\"\"\n",
    "    A function that simulates processing data and logs its progress and any errors.\n",
    "    \"\"\"\n",
    "    # 2. Log an informational message\n",
    "    # Use logging.info() to log the start of the process\n",
    "    logging.info(f\"Starting to process data: {data}\")\n",
    "    \n",
    "    try:\n",
    "        # Simulate a task that might fail, like a division\n",
    "        result = 100 / data\n",
    "        \n",
    "        # 3. Log a success message\n",
    "        logging.info(f\"Successfully processed data. Result: {result}\")\n",
    "        print(f\"Processing successful. Result: {result}\")\n",
    "        \n",
    "    except ZeroDivisionError:\n",
    "        # 4. Log an error message\n",
    "        # Use logging.error() to log a specific error that occurred\n",
    "        logging.error(\"Failed to process data: Division by zero occurred.\")\n",
    "        print(\"Error: Cannot divide by zero.\")\n",
    "    except TypeError:\n",
    "        # Handle other potential errors\n",
    "        logging.error(\"Failed to process data: Invalid data type provided.\")\n",
    "        print(\"Error: Invalid data type.\")\n",
    "\n",
    "# --- Example Usage ---\n",
    "\n",
    "if __name__ == \"__main__\":\n",
    "    print(\"Running program to demonstrate logging...\")\n",
    "\n",
    "    # This call will succeed and log an INFO message\n",
    "    process_data(25)\n",
    "\n",
    "    print(\"-\" * 20)\n",
    "    \n",
    "    # This call will cause a ZeroDivisionError and log an ERROR message\n",
    "    process_data(0)\n",
    "\n",
    "    print(\"-\" * 20)\n",
    "    \n",
    "    # This call will cause a TypeError and log an ERROR message\n",
    "    process_data(\"hello\")\n",
    "    \n",
    "    print(\"-\" * 20)\n",
    "    \n",
    "    print(\"Program finished. Check 'application.log' for details.\")"
   ]
  },
  {
   "cell_type": "code",
   "execution_count": 16,
   "id": "c31acc30-5bb4-445a-892e-e48ba22df3db",
   "metadata": {},
   "outputs": [
    {
     "name": "stdout",
     "output_type": "stream",
     "text": [
      "--- Content of 'non_empty_file.txt' ---\n",
      "This is a line of text.\n",
      "This file is not empty.\n",
      "---------------------------------\n",
      "\n",
      "===================================\n",
      "\n",
      "The file 'empty_file.txt' exists but is empty.\n",
      "\n",
      "===================================\n",
      "\n",
      "Error: The file 'non_existent_file.txt' was not found.\n"
     ]
    }
   ],
   "source": [
    "#15. Write a Python program that prints the content of a file and handles the case when the file is empty.\n",
    "\n",
    "import os\n",
    "\n",
    "def read_file_with_empty_check(filename):\n",
    "    \"\"\"\n",
    "    Reads and prints the content of a file, handling the case when the file is empty.\n",
    "\n",
    "    Args:\n",
    "        filename (str): The path to the file to be read.\n",
    "    \"\"\"\n",
    "    if not os.path.exists(filename):\n",
    "        print(f\"Error: The file '{filename}' was not found.\")\n",
    "        return\n",
    "\n",
    "    # Check if the file is empty by checking its size\n",
    "    if os.path.getsize(filename) == 0:\n",
    "        print(f\"The file '{filename}' exists but is empty.\")\n",
    "        return\n",
    "\n",
    "    try:\n",
    "        with open(filename, 'r') as file:\n",
    "            content = file.read()\n",
    "            print(f\"--- Content of '{filename}' ---\")\n",
    "            print(content)\n",
    "            print(\"---------------------------------\")\n",
    "    except Exception as e:\n",
    "        print(f\"An error occurred while reading the file: {e}\")\n",
    "\n",
    "# Example Usage:\n",
    "# Assuming 'non_empty_file.txt' has some content and 'empty_file.txt' is an empty file.\n",
    "# You can create these files to test the program.\n",
    "#\n",
    "# Create a non-empty file\n",
    "with open('non_empty_file.txt', 'w') as f:\n",
    "    f.write(\"This is a line of text.\\n\")\n",
    "    f.write(\"This file is not empty.\")\n",
    "\n",
    "# Create an empty file\n",
    "open('empty_file.txt', 'w').close()\n",
    "\n",
    "read_file_with_empty_check('non_empty_file.txt')\n",
    "print(\"\\n\" + \"=\"*35 + \"\\n\")\n",
    "read_file_with_empty_check('empty_file.txt')\n",
    "print(\"\\n\" + \"=\"*35 + \"\\n\")\n",
    "read_file_with_empty_check('non_existent_file.txt')"
   ]
  },
  {
   "cell_type": "code",
   "execution_count": null,
   "id": "42e26362-a121-4470-95db-802077366ad1",
   "metadata": {},
   "outputs": [],
   "source": [
    "#16. Demonstrate how to use memory profiling to check the memory usage of a small program.\n",
    "\n",
    "@profile\n",
    "def my_function():\n",
    "    a = [1] * (10 ** 6)  # Creates a list of 1 million integers\n",
    "    b = [2] * (2 * 10 ** 6) # Creates a list of 2 million integers\n",
    "    del b\n",
    "    return a\n",
    "\n",
    "if __name__ == '__main__':\n",
    "    my_function()"
   ]
  },
  {
   "cell_type": "code",
   "execution_count": 19,
   "id": "6f70c18c-ded3-4a98-832a-3fcf15fa7885",
   "metadata": {},
   "outputs": [
    {
     "name": "stdout",
     "output_type": "stream",
     "text": [
      "Successfully wrote numbers to 'numbers.txt'.\n",
      "\n",
      "Content of the file:\n",
      "1\n",
      "2\n",
      "3\n",
      "4\n",
      "5\n",
      "10\n",
      "20\n",
      "30\n",
      "\n"
     ]
    }
   ],
   "source": [
    "#17. Write a Python program to create and write a list of numbers to a file, one number per line.\n",
    "\n",
    "def write_numbers_to_file(filename, numbers):\n",
    "  \"\"\"\n",
    "  Writes a list of numbers to a file, with each number on a new line.\n",
    "\n",
    "  Args:\n",
    "    filename (str): The name of the file to write to.\n",
    "    numbers (list): A list of numbers (integers or floats).\n",
    "  \"\"\"\n",
    "  try:\n",
    "    with open(filename, 'w') as file:\n",
    "      for number in numbers:\n",
    "        file.write(str(number) + '\\n')\n",
    "    print(f\"Successfully wrote numbers to '{filename}'.\")\n",
    "  except IOError as e:\n",
    "    print(f\"An error occurred: {e}\")\n",
    "\n",
    "# Example usage:\n",
    "my_numbers = [1, 2, 3, 4, 5, 10, 20, 30]\n",
    "write_numbers_to_file(\"numbers.txt\", my_numbers)\n",
    "\n",
    "# To verify, you can read the file back\n",
    "with open(\"numbers.txt\", 'r') as file:\n",
    "  print(\"\\nContent of the file:\")\n",
    "  print(file.read())"
   ]
  },
  {
   "cell_type": "code",
   "execution_count": 20,
   "id": "4c30e815-6da0-460e-b374-fde2f90df161",
   "metadata": {},
   "outputs": [],
   "source": [
    "#18. How would you implement a basic logging setup that logs to a file with rotation after 1MB?\n",
    "\n",
    "import logging\n",
    "from logging.handlers import RotatingFileHandler\n",
    "import os\n",
    "\n",
    "# Define the log file and its size limit\n",
    "LOG_FILE = \"my_app.log\"\n",
    "MAX_BYTES = 1024 * 1024  # 1 MB\n",
    "\n",
    "# Configure the logger\n",
    "logger = logging.getLogger(__name__)\n",
    "logger.setLevel(logging.INFO)\n",
    "\n",
    "# Create a handler for rotating files\n",
    "handler = RotatingFileHandler(\n",
    "    LOG_FILE,\n",
    "    maxBytes=MAX_BYTES,\n",
    "    backupCount=5\n",
    ")\n",
    "\n",
    "# Define the log format\n",
    "formatter = logging.Formatter('%(asctime)s - %(name)s - %(levelname)s - %(message)s')\n",
    "handler.setFormatter(formatter)\n",
    "\n",
    "# Add the handler to the logger\n",
    "logger.addHandler(handler)\n",
    "\n",
    "# --- Example Usage ---\n",
    "logger.info(\"This is an informational message.\")\n",
    "logger.warning(\"This is a warning message.\")\n",
    "logger.error(\"This is an error message.\")\n",
    "\n",
    "# Simulate writing a lot of data to trigger rotation\n",
    "# In a real application, this would happen naturally over time.\n",
    "# We'll just write a lot of lines to demonstrate the rotation.\n",
    "for i in range(15000):\n",
    "    logger.info(f\"Log message number {i}.\")"
   ]
  },
  {
   "cell_type": "code",
   "execution_count": 21,
   "id": "d1ffbd5e-8d31-49ae-a6d5-63151e3f8b16",
   "metadata": {},
   "outputs": [
    {
     "name": "stdout",
     "output_type": "stream",
     "text": [
      "--- Example 1: No errors ---\n",
      "Successfully accessed dictionary value: Alice\n",
      "Successfully accessed list value: 20\n",
      "\n",
      "==============================\n",
      "\n",
      "--- Example 2: KeyError occurs ---\n",
      "An error occurred: 'age'\n",
      "The program encountered either a non-existent dictionary key or a list index out of range.\n",
      "Please check your input data and access attempts.\n",
      "\n",
      "==============================\n",
      "\n",
      "--- Example 3: IndexError occurs ---\n",
      "Successfully accessed dictionary value: Alice\n",
      "An error occurred: list index out of range\n",
      "The program encountered either a non-existent dictionary key or a list index out of range.\n",
      "Please check your input data and access attempts.\n"
     ]
    }
   ],
   "source": [
    "#19. Write a program that handles both IndexError and KeyError using a try-except block.\n",
    "\n",
    "def handle_errors(data, key, index):\n",
    "  \"\"\"\n",
    "  Attempts to access an item from a dictionary and a list,\n",
    "  handling both KeyError and IndexError.\n",
    "\n",
    "  Args:\n",
    "    data (dict): A dictionary to access.\n",
    "    key (str): A key to look for in the dictionary.\n",
    "    index (int): An index to look for in the list.\n",
    "  \"\"\"\n",
    "  try:\n",
    "    # Attempt to access a dictionary item\n",
    "    dict_value = data[key]\n",
    "    print(f\"Successfully accessed dictionary value: {dict_value}\")\n",
    "\n",
    "    # Attempt to access a list item\n",
    "    list_value = data['my_list'][index]\n",
    "    print(f\"Successfully accessed list value: {list_value}\")\n",
    "\n",
    "  except (KeyError, IndexError) as e:\n",
    "    # This block catches both exceptions\n",
    "    print(f\"An error occurred: {e}\")\n",
    "    print(\"The program encountered either a non-existent dictionary key or a list index out of range.\")\n",
    "    print(\"Please check your input data and access attempts.\")\n",
    "\n",
    "# --- Example Usage ---\n",
    "\n",
    "# Example 1: No errors\n",
    "print(\"--- Example 1: No errors ---\")\n",
    "my_data = {'name': 'Alice', 'my_list': [10, 20, 30]}\n",
    "handle_errors(my_data, 'name', 1)\n",
    "\n",
    "print(\"\\n\" + \"=\"*30 + \"\\n\")\n",
    "\n",
    "# Example 2: KeyError occurs\n",
    "print(\"--- Example 2: KeyError occurs ---\")\n",
    "handle_errors(my_data, 'age', 1)\n",
    "\n",
    "print(\"\\n\" + \"=\"*30 + \"\\n\")\n",
    "\n",
    "# Example 3: IndexError occurs\n",
    "print(\"--- Example 3: IndexError occurs ---\")\n",
    "handle_errors(my_data, 'name', 5)"
   ]
  },
  {
   "cell_type": "code",
   "execution_count": 22,
   "id": "b23c7d5b-623e-4c5a-84c9-4bfe62fcb6ec",
   "metadata": {},
   "outputs": [
    {
     "name": "stdout",
     "output_type": "stream",
     "text": [
      "\n",
      "This is a new line of text added to the file.\n"
     ]
    }
   ],
   "source": [
    "#20. How would you open a file and read its contents using a context manager in Python?\n",
    "\n",
    "try:\n",
    "    # Open the file 'my_file.txt' in read mode ('r')\n",
    "    with open('my_file.txt', 'r') as file:\n",
    "        content = file.read()\n",
    "        print(content)\n",
    "        # The file is automatically closed here, outside the 'with' block.\n",
    "except FileNotFoundError:\n",
    "    print(\"Error: The file 'my_file.txt' was not found.\")"
   ]
  },
  {
   "cell_type": "code",
   "execution_count": 23,
   "id": "6e64fa69-8f02-442e-97ac-e3b96f44b609",
   "metadata": {},
   "outputs": [
    {
     "name": "stdout",
     "output_type": "stream",
     "text": [
      "The word 'python' appears 2 times in the file.\n"
     ]
    }
   ],
   "source": [
    "#21. Write a Python program that reads a file and prints the number of occurrences of a specific word.\n",
    "\n",
    "def count_word_occurrences(filename, word):\n",
    "  \"\"\"\n",
    "  Reads a file and counts the number of occurrences of a specific word.\n",
    "\n",
    "  Args:\n",
    "    filename (str): The path to the file.\n",
    "    word (str): The word to search for.\n",
    "\n",
    "  Returns:\n",
    "    int: The number of times the word appears in the file.\n",
    "         Returns -1 if the file is not found.\n",
    "  \"\"\"\n",
    "  count = 0\n",
    "  try:\n",
    "    with open(filename, 'r') as file:\n",
    "      content = file.read()\n",
    "      # Convert everything to lowercase to make the search case-insensitive\n",
    "      content = content.lower()\n",
    "      # Split the content into a list of words\n",
    "      words_in_file = content.split()\n",
    "\n",
    "      # Count the occurrences of the specific word\n",
    "      count = words_in_file.count(word.lower())\n",
    "\n",
    "  except FileNotFoundError:\n",
    "    print(f\"Error: The file '{filename}' was not found.\")\n",
    "    return -1\n",
    "\n",
    "  return count\n",
    "\n",
    "# --- Example Usage ---\n",
    "# Create a dummy file for demonstration\n",
    "with open(\"sample.txt\", \"w\") as f:\n",
    "  f.write(\"Python is a powerful language. Python is easy to learn. Let's code in Python.\")\n",
    "\n",
    "# Specify the word to search for\n",
    "search_word = \"python\"\n",
    "\n",
    "# Call the function and print the result\n",
    "occurrences = count_word_occurrences(\"sample.txt\", search_word)\n",
    "\n",
    "if occurrences != -1:\n",
    "  print(f\"The word '{search_word}' appears {occurrences} times in the file.\")"
   ]
  },
  {
   "cell_type": "code",
   "execution_count": 24,
   "id": "06fe6460-8aa2-4e8c-b5b8-2cac864f2a6f",
   "metadata": {},
   "outputs": [
    {
     "name": "stdout",
     "output_type": "stream",
     "text": [
      "Is 'empty_file.txt' empty? True\n",
      "Is 'non_empty_file.txt' empty? False\n",
      "Error: The file 'non_existent.txt' does not exist.\n",
      "Is 'non_existent.txt' empty? False\n"
     ]
    }
   ],
   "source": [
    "#22. How can you check if a file is empty before attempting to read its contents?\n",
    "\n",
    "import os\n",
    "\n",
    "def is_file_empty(file_path):\n",
    "  \"\"\"\n",
    "  Checks if a file is empty by its size.\n",
    "\n",
    "  Args:\n",
    "    file_path (str): The path to the file.\n",
    "\n",
    "  Returns:\n",
    "    bool: True if the file exists and is empty, False otherwise.\n",
    "  \"\"\"\n",
    "  # Check if the file exists first\n",
    "  if not os.path.exists(file_path):\n",
    "    print(f\"Error: The file '{file_path}' does not exist.\")\n",
    "    return False\n",
    "\n",
    "  # Get file size using os.stat()\n",
    "  if os.stat(file_path).st_size == 0:\n",
    "    return True\n",
    "  else:\n",
    "    return False\n",
    "\n",
    "# --- Example Usage ---\n",
    "# Create an empty file\n",
    "with open(\"empty_file.txt\", \"w\") as f:\n",
    "  pass\n",
    "\n",
    "# Create a non-empty file\n",
    "with open(\"non_empty_file.txt\", \"w\") as f:\n",
    "  f.write(\"Some content.\")\n",
    "\n",
    "print(f\"Is 'empty_file.txt' empty? {is_file_empty('empty_file.txt')}\")\n",
    "print(f\"Is 'non_empty_file.txt' empty? {is_file_empty('non_empty_file.txt')}\")\n",
    "print(f\"Is 'non_existent.txt' empty? {is_file_empty('non_existent.txt')}\")"
   ]
  },
  {
   "cell_type": "code",
   "execution_count": 25,
   "id": "f4083816-77e2-4aaf-9b18-933a62908402",
   "metadata": {},
   "outputs": [
    {
     "name": "stdout",
     "output_type": "stream",
     "text": [
      "Successfully read from existing_file.txt. Content length: 20\n",
      "\n",
      "==============================\n",
      "\n",
      "File not found: The file 'non_existent_file.txt' does not exist.\n"
     ]
    }
   ],
   "source": [
    "#23. Write a Python program that writes to a log file when an error occurs during file handling.\n",
    "\n",
    "import logging\n",
    "\n",
    "# Configure the logging\n",
    "LOG_FILE = \"file_errors.log\"\n",
    "logging.basicConfig(\n",
    "    filename=LOG_FILE,\n",
    "    level=logging.ERROR,\n",
    "    format='%(asctime)s - %(levelname)s - %(message)s'\n",
    ")\n",
    "\n",
    "def process_file(filename):\n",
    "  \"\"\"\n",
    "  Attempts to open and read a file, logging an error if it fails.\n",
    "  \"\"\"\n",
    "  try:\n",
    "    with open(filename, 'r') as file:\n",
    "      content = file.read()\n",
    "      print(f\"Successfully read from {filename}. Content length: {len(content)}\")\n",
    "      # You could process the content here\n",
    "  except FileNotFoundError:\n",
    "    error_message = f\"File not found: The file '{filename}' does not exist.\"\n",
    "    logging.error(error_message)\n",
    "    print(error_message)\n",
    "  except IOError as e:\n",
    "    error_message = f\"I/O error occurred while handling file '{filename}': {e}\"\n",
    "    logging.error(error_message)\n",
    "    print(error_message)\n",
    "  except Exception as e:\n",
    "    # Catch any other unexpected errors\n",
    "    error_message = f\"An unexpected error occurred: {e}\"\n",
    "    logging.error(error_message)\n",
    "    print(error_message)\n",
    "\n",
    "# --- Example Usage ---\n",
    "\n",
    "# This will succeed (assuming 'existing_file.txt' is created)\n",
    "with open(\"existing_file.txt\", \"w\") as f:\n",
    "  f.write(\"This is a test file.\")\n",
    "process_file(\"existing_file.txt\")\n",
    "\n",
    "print(\"\\n\" + \"=\"*30 + \"\\n\")\n",
    "\n",
    "# This will fail and write an error to the log file\n",
    "process_file(\"non_existent_file.txt\")\n",
    "\n",
    "# To demonstrate an I/O error, you could try to write to a protected directory.\n",
    "# This example might not run on all systems, but it shows the principle.\n",
    "# try:\n",
    "#   process_file(\"/root/some_protected_file.txt\")\n",
    "# except Exception:\n",
    "#   pass"
   ]
  },
  {
   "cell_type": "code",
   "execution_count": null,
   "id": "89bf78c2-5568-4eef-9a58-74ba3f03243c",
   "metadata": {},
   "outputs": [],
   "source": []
  }
 ],
 "metadata": {
  "kernelspec": {
   "display_name": "Python 3 (ipykernel)",
   "language": "python",
   "name": "python3"
  },
  "language_info": {
   "codemirror_mode": {
    "name": "ipython",
    "version": 3
   },
   "file_extension": ".py",
   "mimetype": "text/x-python",
   "name": "python",
   "nbconvert_exporter": "python",
   "pygments_lexer": "ipython3",
   "version": "3.13.2"
  }
 },
 "nbformat": 4,
 "nbformat_minor": 5
}
