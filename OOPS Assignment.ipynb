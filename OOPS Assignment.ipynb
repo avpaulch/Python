{
 "cells": [
  {
   "cell_type": "code",
   "execution_count": null,
   "id": "060345f0-2335-4259-94f2-685315b9f432",
   "metadata": {},
   "outputs": [],
   "source": [
    "#1. What is Object-Oriented Programming (OOP)?\n",
    "\n",
    "Object-Oriented Programming (OOP) is a programming paradigm centered around objects rather than actions or logic. It helps organize and structure code in a way that models real-world entities and their interactions."
   ]
  },
  {
   "cell_type": "code",
   "execution_count": null,
   "id": "7445e743-b516-46b9-a02b-2a9d61025c8e",
   "metadata": {},
   "outputs": [],
   "source": [
    "#2. What is a class in OOP?\n",
    "\n",
    "In Object-Oriented Programming (OOP), a class is a blueprint or template for creating objects. It defines the attributes (data) and methods (functions) that the objects created from the class will have.\n",
    "What a Class Represents:\n",
    "A class represents a concept or type of object.\n",
    "It encapsulates data and behavior related to that concept."
   ]
  },
  {
   "cell_type": "code",
   "execution_count": null,
   "id": "33c98001-e130-4a3b-a13b-e24f7bca1e87",
   "metadata": {},
   "outputs": [],
   "source": [
    "#3. What is an object in OOP?\n",
    "\n",
    "In Object-Oriented Programming (OOP), an object is an instance of a class. It represents a real-world entity and contains both data (attributes) and behavior (methods) defined by its class."
   ]
  },
  {
   "cell_type": "code",
   "execution_count": null,
   "id": "8e1b4799-d6e6-4a23-8ea8-9e9519ae99fe",
   "metadata": {},
   "outputs": [],
   "source": [
    "#4.What is the difference between abstraction and encapsulation?\n",
    "\n",
    "Abstraction: Hiding Complexity, Showing Essentials\n",
    "Definition:\n",
    "Abstraction is the process of hiding the internal details and showing only the essential features of an object or system.\n",
    "\n",
    "Purpose:\n",
    "To reduce complexity and allow the programmer to focus on interactions at a higher level.\n",
    "\n",
    "Example:\n",
    "When you drive a car, you use the steering wheel, pedals, and gear shift — you don’t need to know how the engine works internally. That’s abstraction.\n",
    "\n",
    "Encapsulation\n",
    "Purpose: To hide the internal state and require all interaction to be performed through an object's methods.\n",
    "\n",
    "What it does: Encapsulation protects the internal data of an object from unintended or harmful changes.\n",
    "Example: A car’s speed can be changed using the accelerator, but you can’t directly modify the speedometer reading."
   ]
  },
  {
   "cell_type": "code",
   "execution_count": null,
   "id": "22921e27-ea1d-405d-bcdf-d26ca40e94fa",
   "metadata": {},
   "outputs": [],
   "source": [
    "#5. What are dunder methods in Python?\n",
    "\n",
    "In Python, dunder methods (short for \"double underscore methods\") are special methods that have double underscores before and after their names, like __init__, __str__, __len__, etc. They are also known as magic methods or special methods."
   ]
  },
  {
   "cell_type": "code",
   "execution_count": null,
   "id": "a8f23f18-0736-4dc2-9680-e632a6e8a81a",
   "metadata": {},
   "outputs": [],
   "source": [
    "#6.Explain the concept of inheritance in OOP.\n",
    "\n",
    "In Object-Oriented Programming (OOP), inheritance is a powerful concept that allows one class (called a child or subclass) to inherit properties and behaviors (methods and attributes) from another class (called a parent or superclass)."
   ]
  },
  {
   "cell_type": "code",
   "execution_count": null,
   "id": "f9b78c31-d8c3-4b24-b16b-7700c0adf867",
   "metadata": {},
   "outputs": [],
   "source": [
    "#7.What is polymorphism in OOP?\n",
    "\n",
    "In Object-Oriented Programming (OOP), polymorphism is the concept that allows objects of different classes to be treated as objects of a common superclass. It enables a single interface to represent different underlying forms (data types or behaviors)."
   ]
  },
  {
   "cell_type": "code",
   "execution_count": null,
   "id": "9a4406fd-42cd-4c73-a430-ad0ea2fe1059",
   "metadata": {},
   "outputs": [],
   "source": [
    "#8.How is encapsulation achieved in Python?\n",
    "\n",
    "In Python, encapsulation is achieved by restricting access to certain parts of an object and controlling how data is accessed or modified."
   ]
  },
  {
   "cell_type": "code",
   "execution_count": null,
   "id": "5b59afd9-f9d2-44e1-ac5c-6ef38a71e731",
   "metadata": {},
   "outputs": [],
   "source": [
    "#9.What is a constructor in Python?\n",
    "\n",
    "In Python, a constructor is a special method used to initialize an object when it is created. The constructor method is always named __init__."
   ]
  },
  {
   "cell_type": "code",
   "execution_count": null,
   "id": "b39817dd-d471-4a72-9f2c-b39324b989e1",
   "metadata": {},
   "outputs": [],
   "source": [
    "#10.What are class and static methods in Python?\n",
    "\n",
    "In Python, class methods and static methods are two types of methods that are not bound to instances of a class in the same way as regular (instance) methods. They are used for different purposes and are defined using decorators."
   ]
  },
  {
   "cell_type": "code",
   "execution_count": null,
   "id": "ddfa1eb4-18eb-4a32-8efc-07bd0048b211",
   "metadata": {},
   "outputs": [],
   "source": [
    "#11.What is method overloading in Python?\n",
    "\n",
    "In Python, method overloading refers to the ability to define multiple methods with the same name but different parameters. However, unlike some other languages like Java or C++, Python does not support method overloading directly. Instead, it uses default arguments and variable-length arguments to simulate overloading behavior."
   ]
  },
  {
   "cell_type": "code",
   "execution_count": null,
   "id": "e12b0b6e-e866-414c-817e-00c1be42eead",
   "metadata": {},
   "outputs": [],
   "source": [
    "#12.What is method overriding in OOP?\n",
    "\n",
    "In Object-Oriented Programming (OOP), method overriding is a feature that allows a subclass to provide a specific implementation of a method that is already defined in its superclass."
   ]
  },
  {
   "cell_type": "code",
   "execution_count": null,
   "id": "978e5a18-847e-47e6-b1fd-f0085968f09b",
   "metadata": {},
   "outputs": [],
   "source": [
    "#13.What is a property decorator in Python?\n",
    "\n",
    "In Python, the @property decorator is used to define a method as a property, allowing you to access it like an attribute without parentheses. It’s a way to implement encapsulation by controlling access to instance variables while keeping the syntax clean and intuitive."
   ]
  },
  {
   "cell_type": "code",
   "execution_count": null,
   "id": "2e544d66-7721-4e2e-873e-8f82f043c06a",
   "metadata": {},
   "outputs": [],
   "source": [
    "#14.Why is polymorphism important in OOP?\n",
    "\n",
    "Polymorphism is important in Object-Oriented Programming (OOP) because it makes code more flexible, extensible, and maintainable."
   ]
  },
  {
   "cell_type": "code",
   "execution_count": null,
   "id": "74929058-f8b2-420c-876c-5d6f2f524086",
   "metadata": {},
   "outputs": [],
   "source": [
    "#15.What is an abstract class in Python?\n",
    "\n",
    "In Python, an abstract class is a class that cannot be instantiated directly and is meant to be inherited by other classes. It serves as a blueprint for other classes, enforcing that certain methods must be implemented in any subclass.\n"
   ]
  },
  {
   "cell_type": "code",
   "execution_count": null,
   "id": "3528e5c4-1bb6-4aac-964c-e2374f53a478",
   "metadata": {},
   "outputs": [],
   "source": [
    "#16.What are the advantages of OOP?\n",
    "\n",
    "Object-Oriented Programming (OOP) offers several advantages that make it a powerful and widely used programming paradigm.\n"
   ]
  },
  {
   "cell_type": "code",
   "execution_count": null,
   "id": "a501e656-8adb-4a8e-895d-bc5163267b6d",
   "metadata": {},
   "outputs": [],
   "source": [
    "#17.What is the difference between a class variable and an instance variable?\n",
    "\n",
    "In Python, the difference between a class variable and an instance variable lies in how they are shared and accessed across instances of a class."
   ]
  },
  {
   "cell_type": "code",
   "execution_count": null,
   "id": "c620bd90-17ed-4a50-952e-91c0d907a3d0",
   "metadata": {},
   "outputs": [],
   "source": [
    "#18.What is multiple inheritance in Python?\n",
    "\n",
    "In Python, multiple inheritance is a feature that allows a class to inherit attributes and methods from more than one parent class. This can be powerful, but also complex, especially when the parent classes have overlapping methods or attributes."
   ]
  },
  {
   "cell_type": "code",
   "execution_count": null,
   "id": "341785a5-1a1a-47b7-9ec6-99429daed184",
   "metadata": {},
   "outputs": [],
   "source": [
    "#19.Explain the purpose of ‘’__str__’ and ‘__repr__’ ‘ methods in Python.\n",
    "\n",
    "In Python, the __str__ and __repr__ methods are special (or \"magic\") methods used to define how objects of a class are represented as strings. They serve different purposes:\n",
    "\n",
    "__str__ — User-Friendly String Representation\n",
    "Purpose: To return a readable, user-friendly string representation of an object.\n",
    "Used by: The print() function and str().\n",
    "\n",
    "__repr__ — Developer-Friendly String Representation\n",
    "Purpose: To return a string that ideally could be used to recreate the object. It's meant for debugging and development.\n",
    "Used by: The repr() function and when inspecting objects in the interpreter.\n",
    "\n",
    "If Both Are Defined\n",
    "print(obj) → uses __str__\n",
    "repr(obj) or just typing obj in the interpreter → uses __repr__\n",
    "If __str__ is not defined, Python falls back to using __repr__."
   ]
  },
  {
   "cell_type": "code",
   "execution_count": null,
   "id": "0ca22fa9-ed59-40de-912b-f1c5be8cb3d9",
   "metadata": {},
   "outputs": [],
   "source": [
    "#20.What is the significance of the ‘super()’ function in Python?\n",
    "\n",
    "The super() function in Python is used to call methods from a parent (or superclass) in a child (or subclass). It plays a key role in inheritance, especially in complex class hierarchies or when using multiple inheritance."
   ]
  },
  {
   "cell_type": "code",
   "execution_count": null,
   "id": "9368ec3c-7885-4e7b-a992-f8cd7dc071f9",
   "metadata": {},
   "outputs": [],
   "source": [
    "#21.What is the significance of the __del__ method in Python?\n",
    "\n",
    "The __del__ method in Python is a special method known as a destructor. It is called automatically when an object is about to be destroyed, typically when there are no more references to it."
   ]
  },
  {
   "cell_type": "code",
   "execution_count": null,
   "id": "188c76ef-66c3-46bd-b24e-04fe6ad853fc",
   "metadata": {},
   "outputs": [],
   "source": [
    "#22.What is the difference between @staticmethod and @classmethod in Python?\n",
    "\n",
    "In Python, @staticmethod and @classmethod are decorators used to define methods that behave differently from regular instance methods.\n",
    "\n",
    "@staticmethod\n",
    "Does not take self or cls as the first argument.\n",
    "Behaves like a regular function but belongs to the class's namespace.\n",
    "Cannot access or modify class or instance state.\n",
    "Used when the method logic is related to the class, but does not need access to class or instance data.\n",
    "\n",
    "@classmethod\n",
    "Takes cls as the first argument, referring to the class itself.\n",
    "Can access and modify class-level attributes.\n",
    "Often used for factory methods that create instances using different parameters."
   ]
  },
  {
   "cell_type": "code",
   "execution_count": null,
   "id": "66823d4c-f41a-4e69-8c6a-2f37a082976b",
   "metadata": {},
   "outputs": [],
   "source": [
    "#23.How does polymorphism work in Python with inheritance?\n",
    "\n",
    "Polymorphism in Python, especially with inheritance, allows objects of different classes to be treated as objects of a common superclass. This enables flexibility and reusability in code by allowing the same interface to be used for different underlying forms (data types or classes).\n"
   ]
  },
  {
   "cell_type": "code",
   "execution_count": null,
   "id": "965b804a-3497-431f-ab32-4e68bae6065f",
   "metadata": {},
   "outputs": [],
   "source": [
    "#24.What is method chaining in Python OOP?\n",
    "\n",
    "Method chaining is a programming technique where multiple methods are called on the same object in a single line, one after another. Each method returns the object itself (usually self), allowing the next method to be called directly."
   ]
  },
  {
   "cell_type": "code",
   "execution_count": null,
   "id": "aaadf41b-999d-413b-adaa-c65bfcdbada1",
   "metadata": {},
   "outputs": [],
   "source": [
    "#25.What is the purpose of the __call__ method in Python?\n",
    "\n",
    "The __call__ method in Python allows an instance of a class to be called like a function. When you define __call__ in a class, you can use the object itself as if it were a regular function."
   ]
  },
  {
   "cell_type": "code",
   "execution_count": null,
   "id": "142d9a77-2a84-4402-b067-4738f8351af0",
   "metadata": {},
   "outputs": [],
   "source": []
  },
  {
   "cell_type": "code",
   "execution_count": null,
   "id": "824df526-ade8-4300-942e-a6cacac5ee23",
   "metadata": {},
   "outputs": [],
   "source": [
    "Practical Questions"
   ]
  },
  {
   "cell_type": "code",
   "execution_count": 2,
   "id": "8bb4d0d0-cc4b-43d4-ae05-84b1dc660b5f",
   "metadata": {},
   "outputs": [
    {
     "name": "stdout",
     "output_type": "stream",
     "text": [
      "The animal makes a sound.\n",
      "Bark!\n"
     ]
    }
   ],
   "source": [
    "#1. Create a parent class Animal with a method speak() that prints a generic message. Create a child class Dog that overrides the speak() method to print \"Bark!\".\n",
    "\n",
    "# Parent class\n",
    "class Animal:\n",
    "    def speak(self):\n",
    "        print(\"The animal makes a sound.\")\n",
    "\n",
    "# Child class\n",
    "class Dog(Animal):\n",
    "    def speak(self):\n",
    "        print(\"Bark!\")\n",
    "        \n",
    "generic_animal = Animal()\n",
    "generic_animal.speak()  # Output: The animal makes a sound.\n",
    "\n",
    "dog = Dog()\n",
    "dog.speak()"
   ]
  },
  {
   "cell_type": "code",
   "execution_count": 3,
   "id": "9d87dcff-471a-4d90-981c-0daf1bfad6ce",
   "metadata": {},
   "outputs": [
    {
     "name": "stdout",
     "output_type": "stream",
     "text": [
      "Area of Circle: 78.54\n",
      "Area of Rectangle: 24\n"
     ]
    }
   ],
   "source": [
    "#2. Write a program to create an abstract class Shape with a method area(). Derive classes Circle and Rectangle from it and implement the area() method in both.\n",
    "\n",
    "from abc import ABC, abstractmethod\n",
    "import math\n",
    "\n",
    "# Abstract base class\n",
    "class Shape(ABC):\n",
    "    @abstractmethod\n",
    "    def area(self):\n",
    "        pass\n",
    "\n",
    "# Derived class: Circle\n",
    "class Circle(Shape):\n",
    "    def __init__(self, radius):\n",
    "        self.radius = radius\n",
    "\n",
    "    def area(self):\n",
    "        return math.pi * self.radius ** 2\n",
    "\n",
    "# Derived class: Rectangle\n",
    "class Rectangle(Shape):\n",
    "    def __init__(self, width, height):\n",
    "        self.width = width\n",
    "        self.height = height\n",
    "\n",
    "    def area(self):\n",
    "        return self.width * self.height\n",
    "\n",
    "# Example usage\n",
    "circle = Circle(5)\n",
    "rectangle = Rectangle(4, 6)\n",
    "\n",
    "print(f\"Area of Circle: {circle.area():.2f}\")\n",
    "print(f\"Area of Rectangle: {rectangle.area()}\")"
   ]
  },
  {
   "cell_type": "code",
   "execution_count": 5,
   "id": "f2c9e785-2ac1-4b78-b658-f4ed503b16d8",
   "metadata": {},
   "outputs": [
    {
     "name": "stdout",
     "output_type": "stream",
     "text": [
      "Vehicle type: Four-wheeler\n",
      "Car brand: Tesla\n",
      "Battery capacity: 75 kWh\n"
     ]
    }
   ],
   "source": [
    "#3. Implement a multi-level inheritance scenario where a class Vehicle has an attribute type. Derive a class Car and further derive a class ElectricCar that adds a battery attribute.\n",
    "\n",
    "# Base class\n",
    "class Vehicle:\n",
    "    def __init__(self, vehicle_type):\n",
    "        self.vehicle_type = vehicle_type\n",
    "\n",
    "    def show_type(self):\n",
    "        print(f\"Vehicle type: {self.vehicle_type}\")\n",
    "\n",
    "# Derived class\n",
    "class Car(Vehicle):\n",
    "    def __init__(self, vehicle_type, brand):\n",
    "        super().__init__(vehicle_type)\n",
    "        self.brand = brand\n",
    "\n",
    "    def show_brand(self):\n",
    "        print(f\"Car brand: {self.brand}\")\n",
    "\n",
    "# Further derived class\n",
    "class ElectricCar(Car):\n",
    "    def __init__(self, vehicle_type, brand, battery_capacity):\n",
    "        super().__init__(vehicle_type, brand)\n",
    "        self.battery_capacity = battery_capacity\n",
    "\n",
    "    def show_battery(self):\n",
    "        print(f\"Battery capacity: {self.battery_capacity} kWh\")\n",
    "\n",
    "e_car = ElectricCar(\"Four-wheeler\", \"Tesla\", 75)\n",
    "e_car.show_type()       \n",
    "e_car.show_brand()     \n",
    "e_car.show_battery()"
   ]
  },
  {
   "cell_type": "code",
   "execution_count": 6,
   "id": "3356ed7e-a874-4ea2-bf0b-8f145a4a5d91",
   "metadata": {},
   "outputs": [
    {
     "name": "stdout",
     "output_type": "stream",
     "text": [
      "Sparrow flies high in the sky.\n",
      "Penguins can't fly, but they swim very well.\n"
     ]
    }
   ],
   "source": [
    "#4.Demonstrate polymorphism by creating a base class Bird with a method fly(). Create two derived classes Sparrow and Penguin that override the fly() method.\n",
    "\n",
    "# Base class\n",
    "class Bird:\n",
    "    def fly(self):\n",
    "        print(\"This bird can fly.\")\n",
    "\n",
    "# Derived class: Sparrow\n",
    "class Sparrow(Bird):\n",
    "    def fly(self):\n",
    "        print(\"Sparrow flies high in the sky.\")\n",
    "\n",
    "# Derived class: Penguin\n",
    "class Penguin(Bird):\n",
    "    def fly(self):\n",
    "        print(\"Penguins can't fly, but they swim very well.\")\n",
    "\n",
    "# Function demonstrating polymorphism\n",
    "def bird_flight(bird):\n",
    "    bird.fly()\n",
    "\n",
    "sparrow = Sparrow()\n",
    "penguin = Penguin()\n",
    "\n",
    "bird_flight(sparrow)   \n",
    "bird_flight(penguin)"
   ]
  },
  {
   "cell_type": "code",
   "execution_count": 8,
   "id": "4d684c74-5baf-42e3-91cb-a957d18b6ec0",
   "metadata": {},
   "outputs": [
    {
     "name": "stdout",
     "output_type": "stream",
     "text": [
      "Current balance: ₹1000\n",
      "Deposited: ₹500\n",
      "Withdrawn: ₹300\n",
      "Current balance: ₹1200\n"
     ]
    }
   ],
   "source": [
    "#5.Write a program to demonstrate encapsulation by creating a class BankAccount with private attributes balance and methods to deposit, withdraw, and check balance.\n",
    "\n",
    "class BankAccount:\n",
    "    def __init__(self, initial_balance=0):\n",
    "        self.__balance = initial_balance  # Private attribute\n",
    "\n",
    "    def deposit(self, amount):\n",
    "        if amount > 0:\n",
    "            self.__balance += amount\n",
    "            print(f\"Deposited: ₹{amount}\")\n",
    "        else:\n",
    "            print(\"Deposit amount must be positive.\")\n",
    "\n",
    "    def withdraw(self, amount):\n",
    "        if 0 < amount <= self.__balance:\n",
    "            self.__balance -= amount\n",
    "            print(f\"Withdrawn: ₹{amount}\")\n",
    "        else:\n",
    "            print(\"Insufficient balance or invalid amount.\")\n",
    "\n",
    "    def check_balance(self):\n",
    "        print(f\"Current balance: ₹{self.__balance}\")\n",
    "account = BankAccount(1000)\n",
    "account.check_balance()     \n",
    "account.deposit(500)        \n",
    "account.withdraw(300)       \n",
    "account.check_balance()  "
   ]
  },
  {
   "cell_type": "code",
   "execution_count": 10,
   "id": "a1439e57-77f7-4f99-abf0-07aeb9b7ad52",
   "metadata": {},
   "outputs": [
    {
     "name": "stdout",
     "output_type": "stream",
     "text": [
      "Strumming the guitar\n",
      "Playing the piano\n"
     ]
    }
   ],
   "source": [
    "#6. Demonstrate runtime polymorphism using a method play() in a base class Instrument. Derive classes Guitar and Piano that implement their own version of play().\n",
    "\n",
    "# Base class\n",
    "class Instrument:\n",
    "    def play(self):\n",
    "        print(\"Playing an instrument\")\n",
    "\n",
    "# Derived class: Guitar\n",
    "class Guitar(Instrument):\n",
    "    def play(self):\n",
    "        print(\"Strumming the guitar\")\n",
    "\n",
    "# Derived class: Piano\n",
    "class Piano(Instrument):\n",
    "    def play(self):\n",
    "        print(\"Playing the piano\")\n",
    "\n",
    "# Function to demonstrate runtime polymorphism\n",
    "def perform(instrument: Instrument):\n",
    "    instrument.play()\n",
    "\n",
    "# Main execution\n",
    "if __name__ == \"__main__\":\n",
    "    my_instrument = Guitar()\n",
    "    perform(my_instrument)\n",
    "\n",
    "    my_instrument = Piano()\n",
    "    perform(my_instrument)"
   ]
  },
  {
   "cell_type": "code",
   "execution_count": 11,
   "id": "5b938a29-314c-4417-a059-638c423297b4",
   "metadata": {},
   "outputs": [
    {
     "name": "stdout",
     "output_type": "stream",
     "text": [
      "Sum: 15\n",
      "Difference: 5\n"
     ]
    }
   ],
   "source": [
    "#7. Create a class MathOperations with a class method add_numbers() to add two numbers and a static method subtract_numbers() to subtract two numbers.\n",
    "\n",
    "class MathOperations:\n",
    "    # Class method to add two numbers\n",
    "    @classmethod\n",
    "    def add_numbers(cls, a, b):\n",
    "        return a + b\n",
    "\n",
    "    # Static method to subtract two numbers\n",
    "    @staticmethod\n",
    "    def subtract_numbers(a, b):\n",
    "        return a - b\n",
    "\n",
    "if __name__ == \"__main__\":\n",
    "    \n",
    "    sum_result = MathOperations.add_numbers(10, 5)\n",
    "    print(\"Sum:\", sum_result)\n",
    "\n",
    "    diff_result = MathOperations.subtract_numbers(10, 5)\n",
    "    print(\"Difference:\", diff_result)"
   ]
  },
  {
   "cell_type": "code",
   "execution_count": 12,
   "id": "465e0319-9c6c-41a8-b609-ef76d9ccfc6f",
   "metadata": {},
   "outputs": [
    {
     "name": "stdout",
     "output_type": "stream",
     "text": [
      "Total persons created: 3\n"
     ]
    }
   ],
   "source": [
    "#8. Implement a class Person with a class method to count the total number of persons created.\n",
    "\n",
    "class Person:\n",
    "    count = 0  # Class variable to keep track of the number of persons\n",
    "\n",
    "    def __init__(self, name):\n",
    "        self.name = name\n",
    "        Person.count += 1  # Increment count whenever a new Person is created\n",
    "\n",
    "    @classmethod\n",
    "    def total_persons(cls):\n",
    "        return cls.count\n",
    "\n",
    "if __name__ == \"__main__\":\n",
    "    p1 = Person(\"Alice\")\n",
    "    p2 = Person(\"Bob\")\n",
    "    p3 = Person(\"Charlie\")\n",
    "\n",
    "    print(\"Total persons created:\", Person.total_persons())"
   ]
  },
  {
   "cell_type": "code",
   "execution_count": 17,
   "id": "cf6a5ee4-4731-44a7-bc85-3706ae894c5b",
   "metadata": {},
   "outputs": [
    {
     "name": "stdout",
     "output_type": "stream",
     "text": [
      "3/4\n",
      "5/8\n"
     ]
    }
   ],
   "source": [
    "#9. Write a class Fraction with attributes numerator and denominator. Override the str method to display the fraction as \"numerator/denominator\".\n",
    "\n",
    "class Fraction:\n",
    "    def __init__(self, numerator, denominator):\n",
    "        self.numerator = numerator\n",
    "        self.denominator = denominator\n",
    "\n",
    "    def __str__(self):\n",
    "        return f\"{self.numerator}/{self.denominator}\"\n",
    "\n",
    "if __name__ == \"__main__\":\n",
    "    f1 = Fraction(3, 4)\n",
    "    print(f1) \n",
    "\n",
    "    f2 = Fraction(5, 8)\n",
    "    print(f2)"
   ]
  },
  {
   "cell_type": "code",
   "execution_count": 18,
   "id": "e60bb57a-0bb5-4739-91df-5a119c18c9ee",
   "metadata": {},
   "outputs": [
    {
     "name": "stdout",
     "output_type": "stream",
     "text": [
      "Resultant Vector: (6, 8)\n"
     ]
    }
   ],
   "source": [
    "#10. Demonstrate operator overloading by creating a class Vector and overriding the add method to add two vectors.\n",
    "\n",
    "class Vector:\n",
    "    def __init__(self, x, y):\n",
    "        self.x = x\n",
    "        self.y = y\n",
    "\n",
    "    def __add__(self, other):\n",
    "        if isinstance(other, Vector):\n",
    "            return Vector(self.x + other.x, self.y + other.y)\n",
    "        return NotImplemented\n",
    "\n",
    "    def __str__(self):\n",
    "        return f\"({self.x}, {self.y})\"\n",
    "\n",
    "if __name__ == \"__main__\":\n",
    "    v1 = Vector(2, 3)\n",
    "    v2 = Vector(4, 5)\n",
    "    v3 = v1 + v2 \n",
    "    print(\"Resultant Vector:\", v3)"
   ]
  },
  {
   "cell_type": "code",
   "execution_count": 19,
   "id": "fb22286a-ad53-444c-83bb-4a71937e3ea2",
   "metadata": {},
   "outputs": [
    {
     "name": "stdout",
     "output_type": "stream",
     "text": [
      "Hello, my name is Avi and I am 30 years old.\n"
     ]
    }
   ],
   "source": [
    "#11. Create a class Person with attributes name and age. Add a method greet() that prints \"Hello, my name is {name} and I am {age} years old.\"\n",
    "\n",
    "class Person:\n",
    "    def __init__(self, name, age):\n",
    "        self.name = name\n",
    "        self.age = age\n",
    "\n",
    "    def greet(self):\n",
    "        print(f\"Hello, my name is {self.name} and I am {self.age} years old.\")\n",
    "\n",
    "person1 = Person(\"Avi\", 30)\n",
    "person1.greet()"
   ]
  },
  {
   "cell_type": "code",
   "execution_count": 20,
   "id": "e4e70ed1-bcea-4024-8193-87012ffbb587",
   "metadata": {},
   "outputs": [
    {
     "name": "stdout",
     "output_type": "stream",
     "text": [
      "Avi's average grade is 86.25\n"
     ]
    }
   ],
   "source": [
    "#12. Implement a class Student with attributes name and grades. Create a method average_grade() to compute the average of the grades.\n",
    "\n",
    "class Student:\n",
    "    def __init__(self, name, grades):\n",
    "        self.name = name\n",
    "        self.grades = grades  # Expecting a list of numeric grades\n",
    "\n",
    "    def average_grade(self):\n",
    "        if not self.grades:\n",
    "            return 0\n",
    "        return sum(self.grades) / len(self.grades)\n",
    "student1 = Student(\"Avi\", [85, 90, 78, 92])\n",
    "print(f\"{student1.name}'s average grade is {student1.average_grade():.2f}\")"
   ]
  },
  {
   "cell_type": "code",
   "execution_count": 21,
   "id": "e664d214-7646-4039-aad5-747be7e005a0",
   "metadata": {},
   "outputs": [
    {
     "name": "stdout",
     "output_type": "stream",
     "text": [
      "The area of the rectangle is 50\n"
     ]
    }
   ],
   "source": [
    "#13. Create a class Rectangle with methods set_dimensions() to set the dimensions and area() to calculate the area.\n",
    "\n",
    "class Rectangle:\n",
    "    def __init__(self):\n",
    "        self.length = 0\n",
    "        self.width = 0\n",
    "\n",
    "    def set_dimensions(self, length, width):\n",
    "        self.length = length\n",
    "        self.width = width\n",
    "\n",
    "    def area(self):\n",
    "        return self.length * self.width\n",
    "rect = Rectangle()\n",
    "rect.set_dimensions(10, 5)\n",
    "print(f\"The area of the rectangle is {rect.area()}\")"
   ]
  },
  {
   "cell_type": "code",
   "execution_count": 22,
   "id": "7a795da7-2baf-405e-b0d6-fa91823bece6",
   "metadata": {},
   "outputs": [
    {
     "name": "stdout",
     "output_type": "stream",
     "text": [
      "Avi's salary is ₹20000\n",
      "Prossenjit's salary with bonus is ₹25000\n"
     ]
    }
   ],
   "source": [
    "#14. Create a class Employee with a method calculate_salary() that computes the salary based on hours worked and hourly rate. Create a derived class Manager that adds a bonus to the salary.\n",
    "\n",
    "class Employee:\n",
    "    def __init__(self, name, hours_worked, hourly_rate):\n",
    "        self.name = name\n",
    "        self.hours_worked = hours_worked\n",
    "        self.hourly_rate = hourly_rate\n",
    "\n",
    "    def calculate_salary(self):\n",
    "        return self.hours_worked * self.hourly_rate\n",
    "\n",
    "\n",
    "class Manager(Employee):\n",
    "    def __init__(self, name, hours_worked, hourly_rate, bonus):\n",
    "        super().__init__(name, hours_worked, hourly_rate)\n",
    "        self.bonus = bonus\n",
    "\n",
    "    def calculate_salary(self):\n",
    "        base_salary = super().calculate_salary()\n",
    "        return base_salary + self.bonus\n",
    "emp = Employee(\"Avi\", 40, 500)\n",
    "print(f\"{emp.name}'s salary is ₹{emp.calculate_salary()}\")\n",
    "\n",
    "mgr = Manager(\"Prossenjit\", 40, 500, 5000)\n",
    "print(f\"{mgr.name}'s salary with bonus is ₹{mgr.calculate_salary()}\")"
   ]
  },
  {
   "cell_type": "code",
   "execution_count": 23,
   "id": "8e06b414-3f47-4ac9-8f8c-3110490af1f4",
   "metadata": {},
   "outputs": [
    {
     "name": "stdout",
     "output_type": "stream",
     "text": [
      "Total price for 2 Laptop(s): ₹110000\n"
     ]
    }
   ],
   "source": [
    "#15. Create a class Product with attributes name, price, and quantity. Implement a method total_price() that calculates the total price of the product.\n",
    "\n",
    "class Product:\n",
    "    def __init__(self, name, price, quantity):\n",
    "        self.name = name\n",
    "        self.price = price\n",
    "        self.quantity = quantity\n",
    "\n",
    "    def total_price(self):\n",
    "        return self.price * self.quantity\n",
    "item = Product(\"Laptop\", 55000, 2)\n",
    "print(f\"Total price for {item.quantity} {item.name}(s): ₹{item.total_price()}\")"
   ]
  },
  {
   "cell_type": "code",
   "execution_count": 24,
   "id": "bbd2887b-da6e-4295-be28-42cb4924fece",
   "metadata": {},
   "outputs": [
    {
     "name": "stdout",
     "output_type": "stream",
     "text": [
      "Cow says: Moo\n",
      "Sheep says: Baa\n"
     ]
    }
   ],
   "source": [
    "#16. Create a class Animal with an abstract method sound(). Create two derived classes Cow and Sheep that implement the sound() method.\n",
    "\n",
    "from abc import ABC, abstractmethod\n",
    "\n",
    "# Abstract base class\n",
    "class Animal(ABC):\n",
    "    @abstractmethod\n",
    "    def sound(self):\n",
    "        pass\n",
    "\n",
    "# Derived class Cow\n",
    "class Cow(Animal):\n",
    "    def sound(self):\n",
    "        return \"Moo\"\n",
    "\n",
    "# Derived class Sheep\n",
    "class Sheep(Animal):\n",
    "    def sound(self):\n",
    "        return \"Baa\"\n",
    "        \n",
    "cow = Cow()\n",
    "sheep = Sheep()\n",
    "\n",
    "print(\"Cow says:\", cow.sound())\n",
    "print(\"Sheep says:\", sheep.sound())"
   ]
  },
  {
   "cell_type": "code",
   "execution_count": 25,
   "id": "95735a3b-70d9-44f6-89ab-edce818658a1",
   "metadata": {},
   "outputs": [
    {
     "name": "stdout",
     "output_type": "stream",
     "text": [
      "'To Kill a Mockingbird' by Harper Lee, published in 1960.\n"
     ]
    }
   ],
   "source": [
    "#17. Create a class Book with attributes title, author, and year_published. Add a method get_book_info() that returns a formatted string with the book's details.\n",
    "\n",
    "class Book:\n",
    "    def __init__(self, title, author, year_published):\n",
    "        self.title = title\n",
    "        self.author = author\n",
    "        self.year_published = year_published\n",
    "\n",
    "    def get_book_info(self):\n",
    "        return f\"'{self.title}' by {self.author}, published in {self.year_published}.\"\n",
    "\n",
    "book1 = Book(\"To Kill a Mockingbird\", \"Harper Lee\", 1960)\n",
    "print(book1.get_book_info())"
   ]
  },
  {
   "cell_type": "code",
   "execution_count": 26,
   "id": "dfec8065-871e-4c35-9003-6c4456daffe5",
   "metadata": {},
   "outputs": [
    {
     "name": "stdout",
     "output_type": "stream",
     "text": [
      "House located at 123 Park Street, Kolkata, priced at ₹7500000.\n",
      "Mansion located at 456 Ballygunge Place, Kolkata, priced at ₹25000000, with 10 rooms.\n"
     ]
    }
   ],
   "source": [
    "#18. Create a class House with attributes address and price. Create a derived class Mansion that adds an attribute number_of_rooms.\n",
    "\n",
    "# Base class\n",
    "class House:\n",
    "    def __init__(self, address, price):\n",
    "        self.address = address\n",
    "        self.price = price\n",
    "\n",
    "    def get_info(self):\n",
    "        return f\"House located at {self.address}, priced at ₹{self.price}.\"\n",
    "\n",
    "# Derived class\n",
    "class Mansion(House):\n",
    "    def __init__(self, address, price, number_of_rooms):\n",
    "        super().__init__(address, price)\n",
    "        self.number_of_rooms = number_of_rooms\n",
    "\n",
    "    def get_info(self):\n",
    "        return f\"Mansion located at {self.address}, priced at ₹{self.price}, with {self.number_of_rooms} rooms.\"\n",
    "\n",
    "house = House(\"123 Park Street, Kolkata\", 7500000)\n",
    "mansion = Mansion(\"456 Ballygunge Place, Kolkata\", 25000000, 10)\n",
    "\n",
    "print(house.get_info())\n",
    "print(mansion.get_info())"
   ]
  },
  {
   "cell_type": "code",
   "execution_count": null,
   "id": "2659ca5d-a993-4602-a54e-2b3e36e0a819",
   "metadata": {},
   "outputs": [],
   "source": []
  }
 ],
 "metadata": {
  "kernelspec": {
   "display_name": "Python 3 (ipykernel)",
   "language": "python",
   "name": "python3"
  },
  "language_info": {
   "codemirror_mode": {
    "name": "ipython",
    "version": 3
   },
   "file_extension": ".py",
   "mimetype": "text/x-python",
   "name": "python",
   "nbconvert_exporter": "python",
   "pygments_lexer": "ipython3",
   "version": "3.13.2"
  }
 },
 "nbformat": 4,
 "nbformat_minor": 5
}
