{
 "cells": [
  {
   "cell_type": "markdown",
   "id": "c45c86ef",
   "metadata": {},
   "source": [
    "### Question 1: What is Simple Linear Regression (SLR)? Explain its purpose.\n",
    "\n",
    "**Answer:**"
   ]
  },
  {
   "cell_type": "markdown",
   "id": "c0dc587d",
   "metadata": {},
   "source": [
    "Simple Linear Regression (SLR) is a statistical method that allows us to summarize and study relationships between two continuous variables. One variable, denoted x, is regarded as the predictor, explanatory, or independent variable. The other variable, denoted y, is regarded as the response, outcome, or dependent variable. The purpose of SLR is to model the relationship between the variables and predict the value of the dependent variable based on the independent variable."
   ]
  },
  {
   "cell_type": "markdown",
   "id": "cf357c5d",
   "metadata": {},
   "source": [
    "### Question 2: What are the key assumptions of Simple Linear Regression?\n",
    "\n",
    "**Answer:**"
   ]
  },
  {
   "cell_type": "markdown",
   "id": "e94e2fa4",
   "metadata": {},
   "source": [
    "The key assumptions of Simple Linear Regression are:\n",
    "1. Linearity: The relationship between the independent and dependent variable is linear.\n",
    "2. Independence: Observations are independent of each other.\n",
    "3. Homoscedasticity: Constant variance of errors.\n",
    "4. Normality: The residuals of the model are normally distributed."
   ]
  },
  {
   "cell_type": "markdown",
   "id": "8d491ded",
   "metadata": {},
   "source": [
    "### Question 3: Write the mathematical equation for a simple linear regression model and explain each term.\n",
    "\n",
    "**Answer:**"
   ]
  },
  {
   "cell_type": "markdown",
   "id": "34db48e1",
   "metadata": {},
   "source": [
    "The equation is: y = β₀ + β₁x + ε\n",
    "Where:\n",
    "- y is the dependent variable\n",
    "- x is the independent variable\n",
    "- β₀ is the intercept\n",
    "- β₁ is the slope coefficient\n",
    "- ε is the error term"
   ]
  },
  {
   "cell_type": "markdown",
   "id": "e41ae33d",
   "metadata": {},
   "source": [
    "### Question 4: Provide a real-world example where simple linear regression can be applied.\n",
    "\n",
    "**Answer:**"
   ]
  },
  {
   "cell_type": "markdown",
   "id": "71e59ca7",
   "metadata": {},
   "source": [
    "A real-world example of simple linear regression is predicting a person's weight based on their height. Here, height is the independent variable and weight is the dependent variable."
   ]
  },
  {
   "cell_type": "markdown",
   "id": "fa2552cc",
   "metadata": {},
   "source": [
    "### Question 5: What is the method of least squares in linear regression?\n",
    "\n",
    "**Answer:**"
   ]
  },
  {
   "cell_type": "markdown",
   "id": "3d7fa665",
   "metadata": {},
   "source": [
    "The method of least squares is a standard approach in regression analysis to approximate the solution of overdetermined systems. It minimizes the sum of the squares of the residuals (the differences between observed and predicted values)."
   ]
  },
  {
   "cell_type": "markdown",
   "id": "30daf3ec",
   "metadata": {},
   "source": [
    "### Question 6: What is Logistic Regression? How does it differ from Linear Regression?\n",
    "\n",
    "**Answer:**"
   ]
  },
  {
   "cell_type": "markdown",
   "id": "d556a181",
   "metadata": {},
   "source": [
    "Logistic Regression is a classification algorithm used to predict binary outcomes (0 or 1, true or false). Unlike Linear Regression which predicts continuous values, Logistic Regression predicts the probability of a categorical dependent variable using a logistic function."
   ]
  },
  {
   "cell_type": "markdown",
   "id": "235a8d28",
   "metadata": {},
   "source": [
    "### Question 7: Name and briefly describe three common evaluation metrics for regression models.\n",
    "\n",
    "**Answer:**"
   ]
  },
  {
   "cell_type": "markdown",
   "id": "7aa3b27a",
   "metadata": {},
   "source": [
    "Three common evaluation metrics are:\n",
    "1. Mean Absolute Error (MAE): Average of absolute differences between predicted and actual values.\n",
    "2. Mean Squared Error (MSE): Average of squared differences between predicted and actual values.\n",
    "3. Root Mean Squared Error (RMSE): Square root of MSE, gives error in original units."
   ]
  },
  {
   "cell_type": "markdown",
   "id": "9e6a04cf",
   "metadata": {},
   "source": [
    "### Question 8: What is the purpose of the R-squared metric in regression analysis?\n",
    "\n",
    "**Answer:**"
   ]
  },
  {
   "cell_type": "markdown",
   "id": "64010fad",
   "metadata": {},
   "source": [
    "R-squared measures the proportion of the variance in the dependent variable that is predictable from the independent variable(s). It indicates the goodness of fit of the model."
   ]
  },
  {
   "cell_type": "markdown",
   "id": "4f9eefb7",
   "metadata": {},
   "source": [
    "### Question 9: Write Python code to fit a simple linear regression model using scikit-learn and print the slope and intercept.\n",
    "\n",
    "**Answer:**"
   ]
  },
  {
   "cell_type": "code",
   "execution_count": 1,
   "id": "4228ed77",
   "metadata": {},
   "outputs": [
    {
     "name": "stdout",
     "output_type": "stream",
     "text": [
      "Slope: 0.6\n",
      "Intercept: 2.2\n"
     ]
    }
   ],
   "source": [
    "from sklearn.linear_model import LinearRegression\n",
    "import numpy as np\n",
    "\n",
    "x = np.array([1, 2, 3, 4, 5]).reshape(-1, 1)\n",
    "y = np.array([2, 4, 5, 4, 5])\n",
    "\n",
    "model = LinearRegression()\n",
    "model.fit(x, y)\n",
    "\n",
    "print('Slope:', model.coef_[0])\n",
    "print('Intercept:', model.intercept_)"
   ]
  },
  {
   "cell_type": "markdown",
   "id": "8aa721d9",
   "metadata": {},
   "source": [
    "### Question 10: How do you interpret the coefficients in a simple linear regression model?\n",
    "\n",
    "**Answer:**"
   ]
  },
  {
   "cell_type": "markdown",
   "id": "27fe3f9f",
   "metadata": {},
   "source": [
    "The intercept (β₀) represents the expected value of the dependent variable when the independent variable is zero. The slope (β₁) indicates the change in the dependent variable for a one-unit change in the independent variable."
   ]
  }
 ],
 "metadata": {
  "kernelspec": {
   "display_name": "Python 3 (ipykernel)",
   "language": "python",
   "name": "python3"
  },
  "language_info": {
   "codemirror_mode": {
    "name": "ipython",
    "version": 3
   },
   "file_extension": ".py",
   "mimetype": "text/x-python",
   "name": "python",
   "nbconvert_exporter": "python",
   "pygments_lexer": "ipython3",
   "version": "3.13.2"
  }
 },
 "nbformat": 4,
 "nbformat_minor": 5
}
