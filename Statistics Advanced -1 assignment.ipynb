{
 "cells": [
  {
   "cell_type": "code",
   "execution_count": null,
   "id": "7ff1b0bc-f98c-49b5-a940-959e3249fc9a",
   "metadata": {},
   "outputs": [],
   "source": [
    "#1: What is a random variable in probability theory?\n",
    "#Answer: In probability theory, a random variable is a function that assigns a numerical\n",
    "#value to each outcome in a sample space of a random experiment.\n",
    "#Key Points:\n",
    "#It quantifies outcomes of random phenomena.\n",
    "#It can be discreet (e.g., number of heads in coin tosses) or continuous (e.g., temperature\n",
    "readings).\n",
    "#It helps in calculating probabilities, expectations, variances, and other statistical measures.\n"
   ]
  },
  {
   "cell_type": "code",
   "execution_count": 1,
   "id": "eca110bf-5299-46bd-b481-7b7d97df7a24",
   "metadata": {},
   "outputs": [],
   "source": [
    "#2: What are the types of random variables?\n",
    "#Answer: There are two main types of random variables in probability theory:\n",
    "#1. Discrete Random Variable\n",
    "#Takes on countable values (often integers).\n",
    "#Examples: Number of students in a class, number of heads in 10 coin tosses.\n",
    "#Probability is assigned to each specific value.\n",
    "#2. Continuous Random Variable\n",
    "#Takes on uncountably infinite values within a range.\n",
    "#Examples: Height of individuals, time taken to run a race.\n",
    "#Probability is described using a probability density function (PDF).\n"
   ]
  },
  {
   "cell_type": "code",
   "execution_count": null,
   "id": "980c5fc6-c6b1-4469-a00b-ea088b17d8b7",
   "metadata": {},
   "outputs": [],
   "source": [
    "Question 3: Explain the difference between discrete and continuous distributions.\n",
    "Answer: There are two types of random variables: discrete and continuous. Discrete\n",
    "variables take specific values, while continuous variables can take any value within a range.\n",
    "Answer: Discrete distributions describe variables that take distinct values (e.g., number of\n",
    "students), while continuous distributions describe variables that can take any value within\n",
    "a range (e.g., height)."
   ]
  },
  {
   "cell_type": "code",
   "execution_count": null,
   "id": "8168f3dd-e357-4a3c-90ca-324c69976a36",
   "metadata": {},
   "outputs": [],
   "source": [
    "Question 4: What is a binomial distribution, and how is it used in probability?\n",
    "Answer: A binomial distribution represents the number of successes in a fixed number of\n",
    "independent Bernoulli trials. It is used to model binary outcomes like success/failure.\n",
    "Answer: The standard normal distribution is a normal distribution with mean 0 and\n",
    "standard deviation 1. It is important because it simplifies calculations and is used in\n",
    "hypothesis testing."
   ]
  },
  {
   "cell_type": "code",
   "execution_count": null,
   "id": "6796586b-8348-422a-9729-cfb8b3dd7ee4",
   "metadata": {},
   "outputs": [],
   "source": [
    "Question 5: What is the standard normal distribution, and why is it important?\n",
    "Answer: The standard normal distribution is a special case of the normal distribution with:\n",
    "Mean (μ) = 0\n",
    "Standard deviation (σ) = 1\n",
    "Why is it important?\n",
    "Simplifies calculations: Many statistical formulas and tables (like Z-tables) are based on the\n",
    "standard normal distribution.\n",
    "Used in hypothesis testing: It helps determine probabilities and critical values for tests.\n",
    "\n",
    "Foundation for the Central Limit Theorem: Sample means tend to follow a normal\n",
    "distribution as sample size increases.\n",
    "Normalization: Data from any normal distribution can be converted to standard normal\n",
    "using the Z-score formula:\n",
    "Z=X−μσZ = \\frac{X - \\mu}{\\sigma}Z=σX−μ\n"
   ]
  },
  {
   "cell_type": "code",
   "execution_count": null,
   "id": "586dff6b-1c34-4fc3-a7f9-6bf8c15e3d49",
   "metadata": {},
   "outputs": [],
   "source": [
    "Question 6: What is the Central Limit Theorem (CLT), and why is it critical in statistics?\n",
    "Answer: The Central Limit Theorem states that the sampling distribution of the sample\n",
    "means approaches a normal distribution as the sample size increases, regardless of the\n",
    "population's distribution."
   ]
  },
  {
   "cell_type": "code",
   "execution_count": null,
   "id": "61f533ef-8083-43e1-a7f5-2ea47e873007",
   "metadata": {},
   "outputs": [],
   "source": [
    "Question 7: What is the significance of confidence intervals in statistical analysis?\n",
    "Answer: Confidence intervals provide a range of values within which the true population\n",
    "parameter is expected to lie, with a certain level of confidence (e.g., 95%).\n",
    "Answer: The expected value is the long-term average or mean of a random variable. It is\n",
    "calculated by summing the products of each value and its probability"
   ]
  },
  {
   "cell_type": "code",
   "execution_count": null,
   "id": "ccb45283-2fff-4d88-9d18-5e3414e0f4c0",
   "metadata": {},
   "outputs": [],
   "source": [
    "Question 8: What is the concept of expected value in a probability distribution?\n",
    "Answer: The expected value of a random variable in a probability distribution is essentially\n",
    "its long-term average or mean value.\n",
    "Definition:\n",
    "For a discrete random variable XXX with possible values x1,x2,...,xnx_1, x_2, ..., x_nx1,x2,...,xn\n",
    "and corresponding probabilities p1,p2,...,pnp_1, p_2, ..., p_np1,p2,...,pn, the expected value is:\n",
    "E(X)=∑i=1nxi⋅piE(X) = \\sum_{i=1}^{n} x_i \\cdot p_iE(X)=i=1∑nxi⋅pi\n",
    "For a continuous random variable, it's:\n",
    "E(X)=∫−∞∞x⋅f(x) dxE(X) = \\int_{-\\infty}^{\\infty} x \\cdot f(x) \\, dxE(X)=∫−∞∞x⋅f(x) dx\n",
    "where f(x)f(x)f(x) is the probability density function."
   ]
  },
  {
   "cell_type": "code",
   "execution_count": 2,
   "id": "13b720bb-154c-4827-94e2-b916864e4af2",
   "metadata": {},
   "outputs": [
    {
     "name": "stdout",
     "output_type": "stream",
     "text": [
      "Mean: 50.35054471490865, Standard Deviation: 5.1532065745729385\n"
     ]
    },
    {
     "data": {
      "image/png": "[encoded data removed]",
      "text/plain": [
       "<Figure size 640x480 with 1 Axes>"
      ]
     },
     "metadata": {},
     "output_type": "display_data"
    }
   ],
   "source": [
    "#Question 9: Write a Python program to generate 1000 random numbers from a normal distribution with mean = 50 and standard deviation = 5. Compute its mean and standard deviation using NumPy, and draw a histogram to visualize the distribution.\n",
    "\n",
    "import numpy as np\n",
    "import matplotlib.pyplot as plt\n",
    "data = np.random.normal(loc=50, scale=5, size=1000)\n",
    "mean = np.mean(data)\n",
    "std_dev = np.std(data)\n",
    "print(f'Mean: {mean}, Standard Deviation: {std_dev}')\n",
    "plt.hist(data, bins=30, edgecolor='black')\n",
    "plt.title('Histogram of Normal Distribution')\n",
    "plt.xlabel('Value')\n",
    "plt.ylabel('Frequency')\n",
    "plt.show()"
   ]
  },
  {
   "cell_type": "code",
   "execution_count": null,
   "id": "a1e8c24d-f19c-4fbf-8d3a-5e39e3605fa7",
   "metadata": {},
   "outputs": [],
   "source": [
    "Question 10: You are working as a data analyst for a retail company. The company has\n",
    "collected daily sales data for 2 years and wants you to identify the overall sales trend.\n",
    "daily_sales = [220, 245, 210, 265, 230, 250, 260, 275, 240, 255,\n",
    " 235, 260, 245, 250, 225, 270, 265, 255, 250, 260]\n",
    "● Explain how you would apply the Central Limit Theorem to estimate the average sales\n",
    "with a 95% confidence interval.\n",
    "● Write the Python code to compute the mean sales and its confidence interval.\n",
    "(Include your Python code and output in the code box below.) \n",
    "\n",
    "Answer :- To estimate the average daily sales with a 95% confidence interval using the Central Limit Theorem (CLT), you'd take repeated samples from the 2-year sales data.\n",
    "\n",
    "Applying the Central Limit Theorem\n",
    "The Central Limit Theorem states that the distribution of sample means will approximate a normal distribution, regardless of the original population's distribution, as long as the sample size is large enough (n>30).\n",
    "\n",
    "Here's how you'd apply it to the daily sales data:\n",
    "\n",
    "Understand the Population: Your population is the 2 years of daily sales data. This is a very large dataset, which makes the CLT applicable.\n",
    "\n",
    "Take a Large Sample: You'd need to take a random sample of sales data from the 2-year period. A sample size of at least 30 is typically considered sufficient for the CLT to hold. Let's say you take a sample of 100 days of sales data.\n",
    "\n",
    "Calculate the Sample Mean and Standard Deviation: Calculate the mean ( \n",
    "x\n",
    "ˉ\n",
    " ) and standard deviation (s) of this sample. The sample mean serves as your point estimate for the true average daily sales. The standard deviation helps determine the spread of the data.\n",
    "\n",
    "Calculate the Standard Error: The standard error of the mean (SE) measures how much the sample mean is likely to vary from the true population mean. It's calculated using the formula:\n",
    "\n",
    "SE= \n",
    "n\n",
    "\n",
    "​\n",
    " \n",
    "s\n",
    "​\n",
    " \n",
    "\n",
    "Determine the Margin of Error: For a 95% confidence interval, you use a z-score of approximately 1.96. This value corresponds to the number of standard deviations from the mean that encompass 95% of the data in a normal distribution. The margin of error (ME) is calculated by:\n",
    "\n",
    "ME=1.96×SE\n",
    "\n",
    "Construct the Confidence Interval: Finally, you construct the confidence interval by adding and subtracting the margin of error from your sample mean:\n",
    "\n",
    "ConfidenceInterval= \n",
    "x\n",
    "ˉ\n",
    " ±ME\n",
    "\n",
    "This interval provides a range of values within which you can be 95% confident that the true average daily sales for the retail company lies."
   ]
  },
  {
   "cell_type": "code",
   "execution_count": 7,
   "id": "77e026ea-cba7-452e-917c-1807cd5d69e0",
   "metadata": {},
   "outputs": [
    {
     "name": "stdout",
     "output_type": "stream",
     "text": [
      "Mean Sales: 248.25\n",
      "95% Confidence Interval: (240.68326838343515, 255.81673161656485)\n"
     ]
    }
   ],
   "source": [
    "import numpy as np\n",
    "import scipy.stats as stats\n",
    "daily_sales = [220, 245, 210, 265, 230, 250, 260, 275, 240, 255,\n",
    " 235, 260, 245, 250, 225, 270, 265, 255, 250, 260]\n",
    "mean_sales = np.mean(daily_sales)\n",
    "std_dev = np.std(daily_sales, ddof=1)\n",
    "n = len(daily_sales)\n",
    "confidence = 0.95\n",
    "z_score = stats.norm.ppf(1 - (1 - confidence)/2)\n",
    "margin_of_error = z_score * (std_dev / np.sqrt(n))\n",
    "ci_lower = mean_sales - margin_of_error\n",
    "ci_upper = mean_sales + margin_of_error\n",
    "print(f'Mean Sales: {mean_sales}')\n",
    "print(f'95% Confidence Interval: ({ci_lower}, {ci_upper})')"
   ]
  },
  {
   "cell_type": "code",
   "execution_count": null,
   "id": "4a094d17-ec76-45b3-96c0-e6dc11d29f1f",
   "metadata": {},
   "outputs": [],
   "source": []
  }
 ],
 "metadata": {
  "kernelspec": {
   "display_name": "Python 3 (ipykernel)",
   "language": "python",
   "name": "python3"
  },
  "language_info": {
   "codemirror_mode": {
    "name": "ipython",
    "version": 3
   },
   "file_extension": ".py",
   "mimetype": "text/x-python",
   "name": "python",
   "nbconvert_exporter": "python",
   "pygments_lexer": "ipython3",
   "version": "3.13.2"
  }
 },
 "nbformat": 4,
 "nbformat_minor": 5
}
