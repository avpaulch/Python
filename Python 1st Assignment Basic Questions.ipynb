{
 "cells": [
  {
   "cell_type": "code",
   "execution_count": null,
   "id": "7483978a-aa20-4b66-b682-c0d87132bc7a",
   "metadata": {},
   "outputs": [],
   "source": [
    "1. What is Python, and why is it popular?\n",
    "\n",
    "Ans. Python is a programming language for creating instructions for a computer to follow.\n",
    "    Python is popular because it is widely accepted in the industry, data industry friendly. Also Python has a lot of libraries, it is helpful for Automation, image processing and for large databases.\n"
   ]
  },
  {
   "cell_type": "code",
   "execution_count": null,
   "id": "0fee62aa-78bc-4a6a-840f-03f887c4c197",
   "metadata": {},
   "outputs": [],
   "source": [
    "2. What is an interpreter in Python?\n",
    "\n",
    "Ans. An interpreter in Python is a Program that reads and executes Python code directly, line by line.\n"
   ]
  },
  {
   "cell_type": "code",
   "execution_count": null,
   "id": "4030b121-26c3-4de8-b0dd-a942bb1928c9",
   "metadata": {},
   "outputs": [],
   "source": [
    "3. What are pre-defined keywords in Python?\n",
    "\n",
    "Ans. Pre-defined keywords in Python are reserved words that have special meanings and purposes within the language. \n"
   ]
  },
  {
   "cell_type": "code",
   "execution_count": null,
   "id": "99d55dbb-2abe-45ab-8b0d-49234e4b783f",
   "metadata": {},
   "outputs": [],
   "source": [
    "4. Can keywords be used as variable names?\n",
    "\n",
    "Ans. You can't use them as variable names,function names,or any other identifiers.\n",
    "They are fundamental buidling blocks that the Python interpreter understands & uses to structure the code."
   ]
  },
  {
   "cell_type": "code",
   "execution_count": null,
   "id": "6e1884ba-e519-463d-b950-3f132d97d08c",
   "metadata": {},
   "outputs": [],
   "source": [
    "5. What is mutability in Python?\n",
    "\n",
    "Ans. If you can edit something, objects/container whose state or value can be changed, after they are created called as imumutable objects, also called as item assignments.\n"
   ]
  },
  {
   "cell_type": "code",
   "execution_count": null,
   "id": "b2674ce2-0491-499d-9211-1f0fc65eb58a",
   "metadata": {},
   "outputs": [],
   "source": [
    "6. Why are lists mutable, but tuples are immutable?\n",
    "\n",
    "Ans. Lists are mutable because their contents (elements) can be changed after they are created, while tuples are immutable because their contents cannot be changed once they are defined.\n"
   ]
  },
  {
   "cell_type": "code",
   "execution_count": null,
   "id": "12427fa7-2c67-4f18-b480-b6c77f634d0c",
   "metadata": {},
   "outputs": [],
   "source": [
    "7. What is the difference between “==” and “is” operators in Python?\n",
    "\n",
    "Ans. The primary difference between == and is in Python lies in what they compare:\n",
    "\n",
    "== compares the values of two objects. It checks for value equality.\n",
    "\n",
    "is compares the identities of two objects. It checks if two variables refer to the exact same object in memory.\n"
   ]
  },
  {
   "cell_type": "code",
   "execution_count": null,
   "id": "72bd7119-f5e6-4ee9-922e-5954bc865236",
   "metadata": {},
   "outputs": [],
   "source": [
    "8. What are Logocal opertaors in Python?\n",
    "\n",
    "Ans. Logical operators in Python are symbols or keywords that combine and evaluate Boolean expressions (expressions that result in True or False) to produce a final Boolean outcome."
   ]
  },
  {
   "cell_type": "code",
   "execution_count": null,
   "id": "1c66ac0c-4d62-48fc-bbb2-8b5fd66d2d34",
   "metadata": {},
   "outputs": [],
   "source": [
    "9. What is type casting in Python?\n",
    "\n",
    "Ans. Type casting (or type conversion) in Python is the process of converting a value from one data type to another. It allows you to explicitly change the type of an object, which is often necessary when performing operations that require specific data types or when data comes in a format different from what you need.\n"
   ]
  },
  {
   "cell_type": "code",
   "execution_count": null,
   "id": "9e957a36-465e-4445-809d-25bf0425ae02",
   "metadata": {},
   "outputs": [],
   "source": [
    "10. What is the difference between implicit and explicit type casting?\n",
    "\n",
    "Ans. The fundamental difference between implicit and explicit type casting in Python lies in who performs the conversion:\n",
    "\n",
    "Implicit Type Conversion (or Coercion) is performed automatically by the Python interpreter without any explicit instruction from the programmer.\n",
    "\n",
    "Explicit Type Conversion (or Type Casting) is performed manually by the programmer using built-in conversion functions.\n"
   ]
  },
  {
   "cell_type": "code",
   "execution_count": null,
   "id": "42b90e64-fa56-4cb9-adf9-f3d77bd269ba",
   "metadata": {},
   "outputs": [],
   "source": [
    "11. What is the purpose of conditional statements in Python? \n",
    "\n",
    "Ans. Conditional statements in Python allow your program to make decisions and execute different blocks of code based on whether certain conditions are met. \n",
    "    They're fundamental for creating dynamic, interactive, and intelligent programs.\n"
   ]
  },
  {
   "cell_type": "code",
   "execution_count": null,
   "id": "5067bb97-f89a-4fc5-8449-c84f174d0ce6",
   "metadata": {},
   "outputs": [],
   "source": [
    "12. How does the elif statement work?\n",
    "\n",
    "Ans. The elif statement in Python works by allowing you to check multiple conditions sequentially after an initial if statement. It's short for \"else if\" and acts as a bridge between the initial if and a final else (if present).\n"
   ]
  },
  {
   "cell_type": "code",
   "execution_count": null,
   "id": "c853e0b1-15ee-40e1-94a6-d3fd7413ab25",
   "metadata": {},
   "outputs": [],
   "source": [
    "13. What is the difference between for and while loops?\n",
    "\n",
    "Ans. A for loop is used for iterating over a sequence (like a list, tuple, string, or range) or other iterable objects. You typically use a for loop when you know in advance how many times the loop needs to execute, or when you want to process each item in a collection.\n",
    "    A while loop is used for repeating a block of code as long as a certain condition is True. You typically use a while loop when you don't know in advance how many times the loop will run, and the repetition depends on some condition changing its state."
   ]
  },
  {
   "cell_type": "code",
   "execution_count": null,
   "id": "679019bd-d460-4c62-905d-0b141c4377fa",
   "metadata": {},
   "outputs": [],
   "source": [
    "14. Describe a scenario where a while loop is more suitable than a for loop.\n",
    "\n",
    "Ans. A while loop is more suitable than a for loop when the number of iterations is not known beforehand and the loop needs to continue until a specific condition is met.\n",
    "    Imagine you're writing a program that needs to get valid input from a user. You want to keep asking the user for input repeatedly until they provide a correct or acceptable value.\n"
   ]
  }
 ],
 "metadata": {
  "kernelspec": {
   "display_name": "Python 3 (ipykernel)",
   "language": "python",
   "name": "python3"
  },
  "language_info": {
   "codemirror_mode": {
    "name": "ipython",
    "version": 3
   },
   "file_extension": ".py",
   "mimetype": "text/x-python",
   "name": "python",
   "nbconvert_exporter": "python",
   "pygments_lexer": "ipython3",
   "version": "3.13.2"
  }
 },
 "nbformat": 4,
 "nbformat_minor": 5
}
