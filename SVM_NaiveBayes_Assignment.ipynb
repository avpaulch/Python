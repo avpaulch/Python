{
 "cells": [
  {
   "cell_type": "markdown",
   "id": "35c51519",
   "metadata": {},
   "source": [
    "### Question 1\n",
    "**What is Information Gain, and how is it used in Decision Trees?**\n",
    "\n",
    "Information Gain measures the reduction in entropy after a dataset is split on an attribute. It helps in selecting the best attribute for splitting in decision trees."
   ]
  },
  {
   "cell_type": "markdown",
   "id": "9656973f",
   "metadata": {},
   "source": [
    "### Question 2\n",
    "**What is the difference between Gini Impurity and Entropy?**\n",
    "\n",
    "Gini Impurity measures the probability of incorrect classification, while Entropy measures the amount of disorder. Gini is faster to compute, Entropy is more informative."
   ]
  },
  {
   "cell_type": "markdown",
   "id": "15e8f6e4",
   "metadata": {},
   "source": [
    "### Question 3\n",
    "**What is Pre-Pruning in Decision Trees?**\n",
    "\n",
    "Pre-Pruning stops tree growth early using constraints like max depth or min samples per leaf to avoid overfitting."
   ]
  },
  {
   "cell_type": "markdown",
   "id": "57a072a4",
   "metadata": {},
   "source": [
    "### Question 4\n",
    "**Python program to train a Decision Tree Classifier using Gini Impurity and print feature importances**"
   ]
  },
  {
   "cell_type": "code",
   "execution_count": 2,
   "id": "34b1d550",
   "metadata": {},
   "outputs": [
    {
     "name": "stdout",
     "output_type": "stream",
     "text": [
      "Feature Importances: [0.         0.02100508 0.02291955 0.         0.         0.\n",
      " 0.4146586  0.         0.         0.41147523 0.         0.02396135\n",
      " 0.10598019]\n"
     ]
    }
   ],
   "source": [
    "from sklearn.datasets import load_wine\n",
    "from sklearn.model_selection import train_test_split\n",
    "from sklearn.tree import DecisionTreeClassifier\n",
    "\n",
    "wine = load_wine()\n",
    "X_train, X_test, y_train, y_test = train_test_split(wine.data, wine.target, test_size=0.3, random_state=42)\n",
    "\n",
    "dt = DecisionTreeClassifier(criterion='gini')\n",
    "dt.fit(X_train, y_train)\n",
    "print('Feature Importances:', dt.feature_importances_)"
   ]
  },
  {
   "cell_type": "markdown",
   "id": "308f5a57",
   "metadata": {},
   "source": [
    "### Question 5\n",
    "**What is a Support Vector Machine (SVM)?**\n",
    "\n",
    "SVM is a supervised learning algorithm that finds the optimal hyperplane to separate classes with maximum margin."
   ]
  },
  {
   "cell_type": "markdown",
   "id": "ee8e11c4",
   "metadata": {},
   "source": [
    "### Question 6\n",
    "**What is the Kernel Trick in SVM?**\n",
    "\n",
    "The Kernel Trick allows SVM to operate in high-dimensional space using kernel functions without explicitly transforming data."
   ]
  },
  {
   "cell_type": "markdown",
   "id": "dd22e5f2",
   "metadata": {},
   "source": [
    "### Question 7\n",
    "**Python program to train two SVM classifiers with Linear and RBF kernels on the Wine dataset and compare accuracies**"
   ]
  },
  {
   "cell_type": "code",
   "execution_count": 3,
   "id": "f1c8b8f7",
   "metadata": {},
   "outputs": [
    {
     "name": "stdout",
     "output_type": "stream",
     "text": [
      "Linear Kernel Accuracy: 0.9814814814814815\n",
      "RBF Kernel Accuracy: 0.7592592592592593\n"
     ]
    }
   ],
   "source": [
    "from sklearn.svm import SVC\n",
    "from sklearn.metrics import accuracy_score\n",
    "\n",
    "svc_linear = SVC(kernel='linear')\n",
    "svc_rbf = SVC(kernel='rbf')\n",
    "\n",
    "svc_linear.fit(X_train, y_train)\n",
    "svc_rbf.fit(X_train, y_train)\n",
    "\n",
    "acc_linear = accuracy_score(y_test, svc_linear.predict(X_test))\n",
    "acc_rbf = accuracy_score(y_test, svc_rbf.predict(X_test))\n",
    "\n",
    "print('Linear Kernel Accuracy:', acc_linear)\n",
    "print('RBF Kernel Accuracy:', acc_rbf)"
   ]
  },
  {
   "cell_type": "markdown",
   "id": "5807c664",
   "metadata": {},
   "source": [
    "### Question 8\n",
    "**What is the Naïve Bayes classifier, and why is it called \"Naïve\"?**\n",
    "\n",
    "Naïve Bayes is a probabilistic classifier based on Bayes' Theorem. It is called \"Naïve\" because it assumes feature independence."
   ]
  },
  {
   "cell_type": "markdown",
   "id": "391beca6",
   "metadata": {},
   "source": [
    "### Question 9\n",
    "**Differences between Gaussian Naïve Bayes, Multinomial Naïve Bayes, and Bernoulli Naïve Bayes**\n",
    "\n",
    "- GaussianNB: for continuous data\n",
    "- MultinomialNB: for discrete counts\n",
    "- BernoulliNB: for binary features"
   ]
  },
  {
   "cell_type": "markdown",
   "id": "2879a432",
   "metadata": {},
   "source": [
    "### Question 10\n",
    "**Python program to train a Gaussian Naïve Bayes classifier on the Breast Cancer dataset and evaluate accuracy**"
   ]
  },
  {
   "cell_type": "code",
   "execution_count": 4,
   "id": "324e3c7b",
   "metadata": {},
   "outputs": [
    {
     "name": "stdout",
     "output_type": "stream",
     "text": [
      "Gaussian Naïve Bayes Accuracy: 0.9415204678362573\n"
     ]
    }
   ],
   "source": [
    "from sklearn.datasets import load_breast_cancer\n",
    "from sklearn.naive_bayes import GaussianNB\n",
    "\n",
    "cancer = load_breast_cancer()\n",
    "X_train, X_test, y_train, y_test = train_test_split(cancer.data, cancer.target, test_size=0.3, random_state=42)\n",
    "\n",
    "gnb = GaussianNB()\n",
    "gnb.fit(X_train, y_train)\n",
    "accuracy = accuracy_score(y_test, gnb.predict(X_test))\n",
    "print('Gaussian Naïve Bayes Accuracy:', accuracy)"
   ]
  },
  {
   "cell_type": "code",
   "execution_count": null,
   "id": "00008c9a-7859-4b28-b0d6-8423619b9342",
   "metadata": {},
   "outputs": [],
   "source": []
  }
 ],
 "metadata": {
  "kernelspec": {
   "display_name": "Python 3 (ipykernel)",
   "language": "python",
   "name": "python3"
  },
  "language_info": {
   "codemirror_mode": {
    "name": "ipython",
    "version": 3
   },
   "file_extension": ".py",
   "mimetype": "text/x-python",
   "name": "python",
   "nbconvert_exporter": "python",
   "pygments_lexer": "ipython3",
   "version": "3.13.2"
  }
 },
 "nbformat": 4,
 "nbformat_minor": 5
}
