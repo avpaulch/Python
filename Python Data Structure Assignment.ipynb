{
 "cells": [
  {
   "cell_type": "code",
   "execution_count": null,
   "id": "5a93361c-b0c9-48e8-a26e-b736b4f15d3a",
   "metadata": {},
   "outputs": [],
   "source": [
    "1. What are data structures, and why are they important?\n",
    "\n",
    "Ans. Data structures are organized ways to store and manage data in a computer so that it can be used efficiently. They define the relationship between the data elements and the operations that can be performed on the data. "
   ]
  },
  {
   "cell_type": "code",
   "execution_count": null,
   "id": "c33dfa93-d420-4817-ac6b-983a73641829",
   "metadata": {},
   "outputs": [],
   "source": [
    "2. Explain the difference between mutable and immutable data types with examples?\n",
    "\n",
    "Ans. The main difference between mutable and immutable data types is whether their value can be changed after they are created.\n",
    "\n",
    "Mutable data types are those whose state or content can be altered after they are initialized. When you modify a mutable object, you are changing the object itself in memory, not creating a new one.\n",
    "\n",
    "Immutable data types are those whose value cannot be changed once they are created. Any operation that appears to modify an immutable object actually creates a new object with the desired changes, leaving the original object untouched.    \n",
    "    \n",
    "    "
   ]
  },
  {
   "cell_type": "code",
   "execution_count": null,
   "id": "50dcbf1d-9489-4caa-9809-f4315046087b",
   "metadata": {},
   "outputs": [],
   "source": [
    "3. What are the main differences between lists and tuples in Python?\n",
    "\n",
    "Ans . The main differences between lists and tuples in Python 3 lie in their mutability, syntax\n",
    "\n",
    "Lists are mutable: This means you can change, add, or remove elements from a list after it's been created. Think of a shopping list where you can add or cross off items.\n",
    "Tuples are immutable: Once a tuple is created, you cannot change its elements, add new ones, or remove existing ones. If you need a \"modified\" tuple, you'll have to create a new one. Think of a fixed set of coordinates (like latitude and longitude) that shouldn't change.\n",
    "\n",
    "Lists are defined using square brackets [].\n",
    "Tuples are defined using parentheses ()."
   ]
  },
  {
   "cell_type": "code",
   "execution_count": null,
   "id": "76b91790-1bdb-480e-aafe-b3aee5d71300",
   "metadata": {},
   "outputs": [],
   "source": [
    "4. Describe how dictionaries store data.\n",
    "\n",
    "Ans. At a fundamental level, Python dictionaries are implemented using hash tables. Here's a breakdown of how this works:\n",
    "\n",
    "Key-Value Pairs: The core idea is that every piece of data (value) is associated with a unique identifier (key).\n",
    "\n",
    "Keys: Must be immutable (hashable) objects like strings, numbers, or tuples. This is because keys are used to compute a hash value, which must remain constant.\n",
    "\n",
    "Values: Can be any Python object (mutable or immutable), including other dictionaries, lists, functions, etc.\n",
    "\n",
    "Hashing: When you add a key-value pair to a dictionary:\n",
    "\n",
    "Python first calculates a hash value for the key using a hash function. This hash value is an integer.\n",
    "\n",
    "The hash value is then used to determine an index or memory location (a \"bucket\") where the key-value pair will be stored in an underlying array.\n",
    "\n",
    "Collision Handling: It's possible for two different keys to produce the same hash value (a \"hash collision\"). Dictionaries handle collisions efficiently, typically using techniques like:\n",
    "\n",
    "Open Addressing: If the calculated index is already occupied, the dictionary probes for the next available slot.\n",
    "\n",
    "Chaining: Each bucket might store a list (or similar structure) of key-value pairs that hash to the same index.\n",
    "\n",
    "Storage: The key-value pairs are stored in these buckets. When you access a value using a key, the process is reversed:\n",
    "\n",
    "The hash value of the provided key is calculated.\n",
    "\n",
    "This hash value leads directly to the specific bucket where the key-value pair is expected to be.\n",
    "\n",
    "Inside the bucket, Python compares the provided key with the stored key(s) to find the exact match and retrieve its corresponding value. This makes dictionary lookups extremely fast, ideally O(1) on average.\n",
    "\n",
    "Dynamic Resizing: Dictionaries are dynamic; they can grow and shrink. If the dictionary becomes too full (exceeds a certain load factor), it will automatically resize by creating a larger hash table and re-hashing all existing key-value pairs into the new table. This ensures that lookups remain efficient even as the dictionary expands.\n"
   ]
  },
  {
   "cell_type": "code",
   "execution_count": null,
   "id": "2e6890c9-05f8-45a9-b9aa-120c387ae9cf",
   "metadata": {},
   "outputs": [],
   "source": [
    "5. Why might you use a set instead of a list in Python?\n",
    "\n",
    "Ans. You'd use a set instead of a list in Python 3 primarily when you need to store a collection of unique, unordered items and perform fast operations like checking for membership or eliminating duplicates."
   ]
  },
  {
   "cell_type": "code",
   "execution_count": null,
   "id": "cd574803-1ac8-43e5-95cb-c52dd8662990",
   "metadata": {},
   "outputs": [],
   "source": [
    "6. What is a string in Python, and how is it different from a list? \n",
    "\n",
    "Ans. A string in Python is a sequence of characters, while a list is a sequence of elements of any data type. The main differences lie in their mutability, the type of elements they hold, and their typical use cases."
   ]
  },
  {
   "cell_type": "code",
   "execution_count": null,
   "id": "56373de1-af2c-4a2b-b667-71a09a183879",
   "metadata": {},
   "outputs": [],
   "source": [
    "7. How do tuples ensure data integrity in Python?\n",
    "\n",
    "Ans. Tuples ensure data integrity in Python primarily because they are immutable. This immutability means their contents cannot be changed after creation, which has several implications for data integrity."
   ]
  },
  {
   "cell_type": "code",
   "execution_count": null,
   "id": "f9545f4a-61c1-4942-a4b5-323fb9ebcc53",
   "metadata": {},
   "outputs": [],
   "source": [
    "8. What is a hash table, and how does it relate to dictionaries in Python?\n",
    "\n",
    "Ans. A hash table is a data structure that stores key-value pairs and allows for very fast retrieval of values given their keys. It relates to dictionaries in Python because Python dictionaries are implemented using hash tables internally."
   ]
  },
  {
   "cell_type": "code",
   "execution_count": null,
   "id": "9518a632-5f2f-4413-b83a-0c5a0d46b2ce",
   "metadata": {},
   "outputs": [],
   "source": [
    "9. Can lists contain different data types in Python?\n",
    "\n",
    "Ans. Yes, lists in Python can contain different data types."
   ]
  },
  {
   "cell_type": "code",
   "execution_count": null,
   "id": "4a14924c-11d2-432c-9af1-59827f95b960",
   "metadata": {},
   "outputs": [],
   "source": [
    "10. Explain why strings are immutable in Python?\n",
    "\n",
    "Ans. Strings are immutable in Python, meaning their content cannot be changed after they are created. This design choice provides several benefits related to performance, memory, and thread safety.\n",
    "\n",
    "Reasons for Immutability\n",
    "Performance and Optimization:\n",
    "\n",
    "String Interning: Python often \"interns\" strings, especially short, frequently used ones. This means that if multiple variables hold the same string literal (e.g., s1 = \"hello\", s2 = \"hello\"), they might actually point to the exact same object in memory. If strings were mutable, changing s1 would unexpectedly change s2, leading to unpredictable behavior. Immutability allows this optimization, saving memory and speeding up string comparisons (as Python can just compare memory addresses). 🚀\n",
    "\n",
    "Hashing: Strings are frequently used as keys in dictionaries and elements in sets. For these data structures to work efficiently (using hash tables), their keys/elements must be hashable. Hashable objects must have a hash value that never changes during their lifetime. Since strings are immutable, their hash value is computed once at creation and remains constant, making them reliable for hashing.\n",
    "\n",
    "Memory Efficiency:\n",
    "\n",
    "When you \"modify\" a string (e.g., s = s + \"world\"), Python doesn't change the existing string object. Instead, it creates a new string object in memory with the combined content. While this might seem less efficient at first glance, for many string operations, it can be optimized by the interpreter. The old string object is then marked for garbage collection if no other references point to it. \n",
    "\n",
    "Thread Safety:\n",
    "\n",
    "In multi-threaded applications, if multiple threads are reading and writing to the same mutable string, it could lead to race conditions and data corruption. Since strings are immutable, multiple threads can safely read and access the same string object concurrently without any risk of one thread altering the string while another is using it. This simplifies concurrent programming as no explicit locking mechanisms are needed for string data.\n",
    "\n",
    "Security and Predictability:\n",
    "\n",
    "Immutability ensures that a string's value remains constant once assigned. This predictability helps prevent unintended side effects in functions or parts of the code that might receive a string argument and otherwise accidentally modify it. It makes code easier to reason about and debug. "
   ]
  },
  {
   "cell_type": "code",
   "execution_count": null,
   "id": "0b3d1f8a-be2b-44bc-b1b1-16badfca6c4b",
   "metadata": {},
   "outputs": [],
   "source": [
    "11. What advantages do dictionaries offer over lists for certain tasks?\n",
    "\n",
    "Ans. Dictionaries offer significant advantages over lists for certain tasks, primarily due to their key-value storage and hash-table implementation use dictionaries when you need to associate values with unique labels and require fast lookups by those labels. Use lists when you need an ordered sequence of items and often access them by their position or iterate through them sequentially."
   ]
  },
  {
   "cell_type": "code",
   "execution_count": null,
   "id": "ebc4e058-3d48-4ee9-88c9-96819d9747d8",
   "metadata": {},
   "outputs": [],
   "source": [
    "12. Describe a scenario where using a tuple would be preferable over a list. \n",
    "\n",
    "Ans. You'd prefer a tuple over a list when you need to represent a fixed collection of related items that should not change.\n",
    "\n",
    "Why a List would be Less Ideal in this Scenario:\n",
    "\n",
    "If point = [10, 25] was used, another part of the code could accidentally modify point[0] = 12, leading to an incorrect location without explicitly intending to create a new point. This could introduce hard-to-find bugs.\n",
    "\n",
    "Lists cannot be used directly as dictionary keys, limiting their utility for mapping data to specific coordinate points."
   ]
  },
  {
   "cell_type": "code",
   "execution_count": null,
   "id": "bd063104-3036-4c4d-9fe4-bb2039c24e05",
   "metadata": {},
   "outputs": [],
   "source": [
    "13. How do sets handle duplicate values in Python?\n",
    "\n",
    "Ans. Sets in Python automatically handle duplicate values by storing only one instance of each unique element. If you try to add a duplicate value to a set, it simply ignores the addition; the set remains unchanged."
   ]
  },
  {
   "cell_type": "code",
   "execution_count": null,
   "id": "dea63473-312b-4b58-a81d-09ff91e93a16",
   "metadata": {},
   "outputs": [],
   "source": [
    "14. How does the “in” keyword work differently for lists and dictionaries?\n",
    "\n",
    "Ans. in for lists looks for elements, while in for dictionaries looks for keys."
   ]
  },
  {
   "cell_type": "code",
   "execution_count": null,
   "id": "8466a63c-2435-4600-8ab7-3f437114b180",
   "metadata": {},
   "outputs": [],
   "source": [
    "15. Can you modify the elements of a tuple? Explain why or why not?\n",
    "\n",
    "Ans. No, you cannot modify the elements of a tuple after it has been created. Tuples are immutable data types in Python\n",
    "\n",
    "Why You Can't Modify Tuple Elements\n",
    "The immutability of tuples is a core design choice in Python, and it means that once a tuple object is instantiated in memory with its elements, its contents are fixed.\n",
    "\n",
    "Here's why:\n",
    "\n",
    "Fixed Memory Allocation: When a tuple is created, Python typically allocates a fixed block of memory for it to store its elements. Since the size and content of a tuple are not meant to change, this fixed allocation is efficient. Allowing modification would require dynamic resizing, which would be less efficient and complex to manage.\n",
    "\n",
    "Hashing and Dictionary Keys: Tuples are \"hashable,\" meaning they can be assigned a fixed hash value. This property is crucial for using tuples as keys in dictionaries or as elements in sets. If a tuple's elements could be modified, its hash value could change, which would break the integrity of hash-based data structures (dictionaries and sets) by making it impossible to reliably find or manage the tuple within them.\n",
    "\n",
    "Data Integrity and Predictability: Immutability ensures that the data within a tuple remains constant. This provides a guarantee that once a tuple is passed around in your program (e.g., to different functions), its values will not be unexpectedly altered by another part of the code. This makes programs more predictable, easier to reason about, and less prone to certain types of bugs, especially in concurrent or multi-threaded environments where multiple parts of a program might access the same data.\n",
    "\n",
    "Example:\n",
    "\n",
    "Trying to modify a tuple will result in a TypeError:\n",
    "\n",
    "Python\n",
    "\n",
    "my_tuple = (1, 2, 3)\n",
    "# my_tuple[0] = 10 # This line would raise a TypeError: 'tuple' object does not support item assignment\n",
    "If you need a collection of items that can be modified, a list is the appropriate data structure to use. If you want a tuple with different elements, you'd have to create a new tuple:\n",
    "\n",
    "Python\n",
    "\n",
    "original_tuple = (1, 2, 3)\n",
    "# Create a new tuple with the desired change\n",
    "new_tuple = (10,) + original_tuple[1:]\n",
    "print(new_tuple) # Output: (10, 2, 3)\n",
    "print(original_tuple) # Output: (1, 2, 3) - The original tuple is unchanged\n",
    "It's important to note, however, that while the tuple itself is immutable, if a tuple contains mutable objects (like lists), the contents of those mutable objects can still be changed:\n",
    "\n",
    "Python\n",
    "\n",
    "mutable_in_tuple = (1, [2, 3], 4)\n",
    "mutable_in_tuple[1].append(5) # This modifies the list object referenced by the tuple\n",
    "print(mutable_in_tuple) # Output: (1, [2, 3, 5], 4)\n",
    "In this case, the tuple's structure and its reference to the list object remain unchanged, but the list object itself has been mutated."
   ]
  },
  {
   "cell_type": "code",
   "execution_count": null,
   "id": "b99a1231-90f0-43fd-8aa8-2fe1c987d1b9",
   "metadata": {},
   "outputs": [],
   "source": [
    "16. What is a nested dictionary, and give an example of its use case?\n",
    "\n",
    "Ans. A nested dictionary is a dictionary where the values of some or all of its keys are themselves other dictionaries. It's essentially a dictionary inside a dictionary.\n",
    "\n",
    "print(school_data[\"student_001\"][\"name\"])          # Output: Alice Smith\n",
    "print(school_data[\"student_002\"][\"courses\"][\"Art\"]) # Output: A\n"
   ]
  },
  {
   "cell_type": "code",
   "execution_count": null,
   "id": "bbfe610a-f265-4ef3-8055-5c3afa0d3f63",
   "metadata": {},
   "outputs": [],
   "source": [
    "17. Describe the time complexity of accessing elements in a dictionary.\n",
    "\n",
    "Ans. Accessing elements in a Python dictionary has an average time complexity of O(1) (constant time). In the worst-case scenario, it can degrade to O(n) (linear time), though this is rare.\n",
    "\n",
    "    for most common use cases and reasonable data, Python dictionaries consistently exhibit their average O(1) performance, making them one of the fastest data structures for lookups."
   ]
  },
  {
   "cell_type": "code",
   "execution_count": null,
   "id": "76fd4aa0-26d6-47fc-9330-7af430483a60",
   "metadata": {},
   "outputs": [],
   "source": [
    "18. In what situations are lists preferred over dictionaries?\n",
    "\n",
    "Ans. Lists are preferred over dictionaries in situations where the order of elements is important, you need to access elements by their numerical position (index), or you have a simple collection of items that don't require unique keys."
   ]
  },
  {
   "cell_type": "code",
   "execution_count": null,
   "id": "713191a6-2024-443a-9be7-da992630fd7a",
   "metadata": {},
   "outputs": [],
   "source": [
    "19. Why are dictionaries considered unordered, and how does that affect data retrieval?\n",
    "\n",
    "Ans. While Python dictionaries now maintain insertion order, their fundamental purpose remains fast, key-based lookups. The order primarily affects iteration, not the efficiency of individual item retrieval by key. If you need robust positional access or guaranteed sorting beyond insertion order, lists or sorted data structures are more suitable."
   ]
  },
  {
   "cell_type": "code",
   "execution_count": null,
   "id": "5beb8397-94c7-402e-b6e3-4d46c89b6e2a",
   "metadata": {},
   "outputs": [],
   "source": [
    "20. Explain the difference between a list and a dictionary in terms of data retrieval. \n",
    "\n",
    "Ans. The key difference in data retrieval between lists and dictionaries lies in the method of access and the resulting time complexity. Lists retrieve data by numerical index, while dictionaries retrieve data by unique keys\n",
    "Feature\tLists\tDictionaries\n",
    "Access Method\tBy numerical index (position)\tBy unique key (label)\n",
    "Primary Use Case\tWhen order matters, or you need to access items by their position.\tWhen you need to retrieve items based on a descriptive label and order is not the primary concern.\n",
    "Average Speed\tO(1) for indexed access; O(n) for value search."
   ]
  },
  {
   "cell_type": "code",
   "execution_count": null,
   "id": "d5f2b320-1601-46aa-a9d4-863601bd2a61",
   "metadata": {},
   "outputs": [],
   "source": [
    "Practical Questions"
   ]
  },
  {
   "cell_type": "code",
   "execution_count": null,
   "id": "1b3a8509-7b77-4eaa-9ee3-14b4a9a09ea3",
   "metadata": {},
   "outputs": [],
   "source": []
  },
  {
   "cell_type": "code",
   "execution_count": 3,
   "id": "a334a687-3df4-4d11-9c3c-1a9e2d79931f",
   "metadata": {},
   "outputs": [
    {
     "name": "stdout",
     "output_type": "stream",
     "text": [
      "Avi\n"
     ]
    }
   ],
   "source": [
    "#1. Write a code to create a string with your name and print it.\n",
    "\n",
    "name = \"Avi\"\n",
    "print(name)"
   ]
  },
  {
   "cell_type": "code",
   "execution_count": 4,
   "id": "164407af-be35-4f5f-8323-1cd2dea1a81d",
   "metadata": {},
   "outputs": [
    {
     "name": "stdout",
     "output_type": "stream",
     "text": [
      "11\n"
     ]
    }
   ],
   "source": [
    "#2. Write a code to find the length of the string \"Hello World\".\n",
    "\n",
    "text = \"Hello World\"\n",
    "length = len(text)\n",
    "print(length)"
   ]
  },
  {
   "cell_type": "code",
   "execution_count": 5,
   "id": "b8d679b5-5436-41d2-a3b4-001a1e735f1b",
   "metadata": {},
   "outputs": [
    {
     "name": "stdout",
     "output_type": "stream",
     "text": [
      "Pyt\n"
     ]
    }
   ],
   "source": [
    "#3. Write a code to slice the first 3 characters from the string \"Python Programming\".\n",
    "\n",
    "text = \"Python Programming\"\n",
    "sliced_text = text[0:3]  # or text[:3]\n",
    "print(sliced_text)"
   ]
  },
  {
   "cell_type": "code",
   "execution_count": 6,
   "id": "44df628c-4c70-49cd-93d2-d3e414d69e80",
   "metadata": {},
   "outputs": [
    {
     "name": "stdout",
     "output_type": "stream",
     "text": [
      "HELLO\n"
     ]
    }
   ],
   "source": [
    "#4. Write a code to convert the string \"hello\" to uppercase.\n",
    "\n",
    "text = \"hello\"\n",
    "uppercase_text = text.upper()\n",
    "print(uppercase_text)"
   ]
  },
  {
   "cell_type": "code",
   "execution_count": 8,
   "id": "c6397fbc-97d6-4d0d-a272-9b2f396ee39e",
   "metadata": {},
   "outputs": [
    {
     "name": "stdout",
     "output_type": "stream",
     "text": [
      "I like orange\n"
     ]
    }
   ],
   "source": [
    "#5. Write a code to replace the word \"apple\" with \"orange\" in the string \"I like apple\".\n",
    "\n",
    "text = \"I like apple\"\n",
    "new_line = text.replace(\"apple\", \"orange\")\n",
    "print(new_line)"
   ]
  },
  {
   "cell_type": "code",
   "execution_count": 9,
   "id": "e0dfe0ca-ae15-4d27-b61c-10c5088c120c",
   "metadata": {},
   "outputs": [
    {
     "name": "stdout",
     "output_type": "stream",
     "text": [
      "[1, 2, 3, 4, 5]\n"
     ]
    }
   ],
   "source": [
    "#6. Write a code to create a list with numbers 1 to 5 and print it.\n",
    "\n",
    "numbers = [1, 2, 3, 4, 5]\n",
    "print(numbers)"
   ]
  },
  {
   "cell_type": "code",
   "execution_count": 10,
   "id": "afb06a92-7717-4eaa-b523-8fdb4d696efe",
   "metadata": {},
   "outputs": [
    {
     "name": "stdout",
     "output_type": "stream",
     "text": [
      "[1, 2, 3, 4, 10]\n"
     ]
    }
   ],
   "source": [
    "#7. Write a code to append the number 10 to the list [1, 2, 3, 4].\n",
    "\n",
    "my_list = [1, 2, 3, 4]\n",
    "my_list.append(10)\n",
    "print(my_list)"
   ]
  },
  {
   "cell_type": "code",
   "execution_count": 11,
   "id": "f7aecb6f-5e72-4b76-bff9-ae439c6c0841",
   "metadata": {},
   "outputs": [
    {
     "name": "stdout",
     "output_type": "stream",
     "text": [
      "[1, 2, 4, 5]\n"
     ]
    }
   ],
   "source": [
    "#8. Write a code to remove the number 3 from the list [1, 2, 3, 4, 5].\n",
    "\n",
    "my_list = [1, 2, 3, 4, 5]\n",
    "my_list.remove(3)\n",
    "print(my_list)"
   ]
  },
  {
   "cell_type": "code",
   "execution_count": 12,
   "id": "434da399-7445-4996-9930-f74f5d7975c4",
   "metadata": {},
   "outputs": [
    {
     "name": "stdout",
     "output_type": "stream",
     "text": [
      "b\n"
     ]
    }
   ],
   "source": [
    "#9. Write a code to access the second element in the list ['a', 'b', 'c', 'd'].\n",
    "\n",
    "my_list = ['a', 'b', 'c', 'd']\n",
    "second_element = my_list[1]\n",
    "print(second_element)"
   ]
  },
  {
   "cell_type": "code",
   "execution_count": 15,
   "id": "e8418211-1052-4e93-820d-beb1a2d5ed97",
   "metadata": {},
   "outputs": [
    {
     "name": "stdout",
     "output_type": "stream",
     "text": [
      "[50, 40, 30, 20, 10]\n"
     ]
    }
   ],
   "source": [
    "#10. Write a code to reverse the list [10, 20, 30, 40, 50].\n",
    "\n",
    "my_list = [10, 20, 30, 40, 50]\n",
    "my_list.reverse()\n",
    "print(my_list)"
   ]
  },
  {
   "cell_type": "code",
   "execution_count": 16,
   "id": "329da7a5-0d15-4664-96e6-873d6b8e468e",
   "metadata": {},
   "outputs": [
    {
     "name": "stdout",
     "output_type": "stream",
     "text": [
      "(100, 200, 300)\n"
     ]
    }
   ],
   "source": [
    "#11. Write a code to create a tuple with the elements 100, 200, 300 and print it.\n",
    "\n",
    "my_tuple = (100, 200, 300)\n",
    "print(my_tuple)"
   ]
  },
  {
   "cell_type": "code",
   "execution_count": 17,
   "id": "18e4d3a2-f3ca-4c17-ab3d-f9bce0b7a7a4",
   "metadata": {},
   "outputs": [
    {
     "name": "stdout",
     "output_type": "stream",
     "text": [
      "blue\n"
     ]
    }
   ],
   "source": [
    "#12. Write a code to access the second-to-last element of the tuple ('red', 'green', 'blue', 'yellow').\n",
    "\n",
    "my_tuple = ('red', 'green', 'blue', 'yellow')\n",
    "second_to_last_element = my_tuple[-2]\n",
    "print(second_to_last_element)"
   ]
  },
  {
   "cell_type": "code",
   "execution_count": 18,
   "id": "f2ce7fd4-b998-4e59-a73e-828550215718",
   "metadata": {},
   "outputs": [
    {
     "name": "stdout",
     "output_type": "stream",
     "text": [
      "5\n"
     ]
    }
   ],
   "source": [
    "#13. Write a code to find the minimum number in the tuple (10, 20, 5, 15).\n",
    "\n",
    "my_tuple = (10, 20, 5, 15)\n",
    "minimum_number = min(my_tuple)\n",
    "print(minimum_number)"
   ]
  },
  {
   "cell_type": "code",
   "execution_count": 19,
   "id": "6dfee37f-3b2f-46ce-b091-7692f2a7bba2",
   "metadata": {},
   "outputs": [
    {
     "name": "stdout",
     "output_type": "stream",
     "text": [
      "1\n"
     ]
    }
   ],
   "source": [
    "#14. Write a code to find the index of the element \"cat\" in the tuple ('dog', 'cat', 'rabbit').\n",
    "\n",
    "my_tuple = ('dog', 'cat', 'rabbit')\n",
    "index_of_cat = my_tuple.index('cat')\n",
    "print(index_of_cat)"
   ]
  },
  {
   "cell_type": "code",
   "execution_count": 20,
   "id": "20ac7d8a-a439-43c8-a237-564afc5c30c3",
   "metadata": {},
   "outputs": [
    {
     "name": "stdout",
     "output_type": "stream",
     "text": [
      "Kiwi is not in the tuple.\n"
     ]
    }
   ],
   "source": [
    "#15. Write a code to create a tuple containing three different fruits and check if \"kiwi\" is in it.\n",
    "\n",
    "fruits_tuple = (\"apple\", \"banana\", \"orange\")\n",
    "\n",
    "if \"kiwi\" in fruits_tuple:\n",
    "    print(\"Kiwi is in the tuple.\")\n",
    "else:\n",
    "    print(\"Kiwi is not in the tuple.\")"
   ]
  },
  {
   "cell_type": "code",
   "execution_count": 21,
   "id": "e0e1cc60-08a2-476e-bae0-c79d4e351cf0",
   "metadata": {},
   "outputs": [
    {
     "name": "stdout",
     "output_type": "stream",
     "text": [
      "{'b', 'a', 'c'}\n"
     ]
    }
   ],
   "source": [
    "#16. Write a code to create a set with the elements 'a', 'b', 'c' and print it.\n",
    "\n",
    "my_set = {'a', 'b', 'c'}\n",
    "print(my_set)"
   ]
  },
  {
   "cell_type": "code",
   "execution_count": 22,
   "id": "5fd0603b-3c30-4d8f-be8f-feb8ee5aa53b",
   "metadata": {},
   "outputs": [
    {
     "name": "stdout",
     "output_type": "stream",
     "text": [
      "set()\n"
     ]
    }
   ],
   "source": [
    "#17. Write a code to clear all elements from the set {1, 2, 3, 4, 5}.\n",
    "\n",
    "my_set = {1, 2, 3, 4, 5}\n",
    "my_set.clear()\n",
    "print(my_set)"
   ]
  },
  {
   "cell_type": "code",
   "execution_count": 23,
   "id": "6266c700-32cc-4a4a-8ca6-c1405568bd99",
   "metadata": {},
   "outputs": [
    {
     "name": "stdout",
     "output_type": "stream",
     "text": [
      "{1, 2, 3}\n"
     ]
    }
   ],
   "source": [
    "#18. Write a code to remove the element 4 from the set {1, 2, 3, 4}.\n",
    "\n",
    "my_set = {1, 2, 3, 4}\n",
    "my_set.remove(4)\n",
    "print(my_set)"
   ]
  },
  {
   "cell_type": "code",
   "execution_count": 24,
   "id": "f6495672-b65d-4a0f-b491-a1e84c21f960",
   "metadata": {},
   "outputs": [
    {
     "name": "stdout",
     "output_type": "stream",
     "text": [
      "{1, 2, 3, 4, 5}\n"
     ]
    }
   ],
   "source": [
    "#19. Write a code to find the union of two sets {1, 2, 3} and {3, 4, 5}.\n",
    "\n",
    "set1 = {1, 2, 3}\n",
    "set2 = {3, 4, 5}\n",
    "union_set = set1.union(set2)\n",
    "print(union_set)"
   ]
  },
  {
   "cell_type": "code",
   "execution_count": 25,
   "id": "08558d51-c73c-41ba-96ef-12ebaee0f36a",
   "metadata": {},
   "outputs": [
    {
     "name": "stdout",
     "output_type": "stream",
     "text": [
      "{2, 3}\n"
     ]
    }
   ],
   "source": [
    "#20. Write a code to find the intersection of two sets {1, 2, 3} and {2, 3, 4}.\n",
    "\n",
    "set1 = {1, 2, 3}\n",
    "set2 = {2, 3, 4}\n",
    "intersection_set = set1.intersection(set2)\n",
    "print(intersection_set)"
   ]
  },
  {
   "cell_type": "code",
   "execution_count": 27,
   "id": "fed70738-231d-4bad-a905-aa4acc657bfa",
   "metadata": {},
   "outputs": [
    {
     "name": "stdout",
     "output_type": "stream",
     "text": [
      "{'name': 'Avi', 'age': 30, 'city': 'Kolkata'}\n"
     ]
    }
   ],
   "source": [
    "#21. Write a code to create a dictionary with the keys \"name\", \"age\", and \"city\", and print it.\n",
    "\n",
    "my_dict = {\n",
    "    \"name\": \"Avi\",\n",
    "    \"age\": 30,\n",
    "    \"city\": \"Kolkata\"\n",
    "}\n",
    "print(my_dict)"
   ]
  },
  {
   "cell_type": "code",
   "execution_count": 34,
   "id": "082d5a97-e06a-4f37-9f68-7343b8c35339",
   "metadata": {},
   "outputs": [
    {
     "name": "stdout",
     "output_type": "stream",
     "text": [
      "{'name': 'Avi', 'age': 30, 'country': 'India'}\n"
     ]
    }
   ],
   "source": [
    "#22. Write a code to add a new key-value pair \"country\": \"USA\" to the dictionary {'name': 'John', 'age': 25}.\n",
    "\n",
    "my_dict = {'name': 'Avi', 'age': 30}\n",
    "my_dict['country'] = 'India'\n",
    "print(my_dict)"
   ]
  },
  {
   "cell_type": "code",
   "execution_count": 30,
   "id": "38b3bdb9-2571-4cef-a6c2-3fe685640b83",
   "metadata": {},
   "outputs": [
    {
     "name": "stdout",
     "output_type": "stream",
     "text": [
      "Avi\n"
     ]
    }
   ],
   "source": [
    "#23. Write a code to access the value associated with the key \"name\" in the dictionary {'name': 'Alice', 'age': 30}.\n",
    "\n",
    "my_dict = {'name': 'Avi', 'age': 30}\n",
    "name_value = my_dict['name']\n",
    "print(name_value)"
   ]
  },
  {
   "cell_type": "code",
   "execution_count": 33,
   "id": "8e5e4455-9a1f-4810-a230-1cdd1cfe9532",
   "metadata": {},
   "outputs": [
    {
     "name": "stdout",
     "output_type": "stream",
     "text": [
      "{'name': 'Avi', 'city': 'Kolkata'}\n"
     ]
    }
   ],
   "source": [
    "#24. Write a code to remove the key \"age\" from the dictionary {'name': 'Bob', 'age': 22, 'city': 'New York'}.\n",
    "\n",
    "my_dict = {'name': 'Avi', 'age': 30, 'city': 'Kolkata'}\n",
    "del my_dict['age']\n",
    "print(my_dict)"
   ]
  },
  {
   "cell_type": "code",
   "execution_count": 35,
   "id": "1fa8f329-f2c6-497c-b88f-b737c1832de1",
   "metadata": {},
   "outputs": [
    {
     "name": "stdout",
     "output_type": "stream",
     "text": [
      "The key 'city' exists in the dictionary.\n"
     ]
    }
   ],
   "source": [
    "#25. Write a code to check if the key \"city\" exists in the dictionary {'name': 'Alice', 'city': 'Paris'}.\n",
    "\n",
    "my_dict = {'name': 'Avi', 'city': 'Kolkata'}\n",
    "\n",
    "if \"city\" in my_dict:\n",
    "    print(\"The key 'city' exists in the dictionary.\")\n",
    "else:\n",
    "    print(\"The key 'city' does not exist in the dictionary.\")"
   ]
  },
  {
   "cell_type": "code",
   "execution_count": 37,
   "id": "bdc80d94-4ed6-4701-ad2f-bb22ddc03c46",
   "metadata": {},
   "outputs": [
    {
     "name": "stdout",
     "output_type": "stream",
     "text": [
      "My List: [10, 20, 30, 'hello', True]\n",
      "My Tuple: (1, 2, 'Python', False)\n",
      "My Dictionary: {'name': 'Avi', 'age': 30, 'city': 'Kolkata'}\n"
     ]
    }
   ],
   "source": [
    "#26. Write a code to create a list, a tuple, and a dictionary, and print them all.\n",
    "\n",
    "my_list = [10, 20, 30, \"hello\", True]\n",
    "my_tuple = (1, 2, \"Python\", False)\n",
    "my_dictionary = {\n",
    "    \"name\": \"Avi\",\n",
    "    \"age\": 30,\n",
    "    \"city\": \"Kolkata\"\n",
    "}\n",
    "\n",
    "print(\"My List:\", my_list)\n",
    "print(\"My Tuple:\", my_tuple)\n",
    "print(\"My Dictionary:\", my_dictionary)"
   ]
  },
  {
   "cell_type": "code",
   "execution_count": 40,
   "id": "eb725327-32a9-4d8f-ae22-fd838697fdbe",
   "metadata": {},
   "outputs": [
    {
     "name": "stdout",
     "output_type": "stream",
     "text": [
      "Original list of random numbers: [87]\n",
      "Original list of random numbers: [87, 28]\n",
      "Original list of random numbers: [87, 28, 15]\n",
      "Original list of random numbers: [87, 28, 15, 53]\n",
      "Original list of random numbers: [87, 28, 15, 53, 35]\n"
     ]
    }
   ],
   "source": [
    "#27. Write a code to create a list of 5 random numbers between 1 and 100, sort it in ascending order, and print the\n",
    "#result.(replaced)\n",
    "\n",
    "import random\n",
    "random_numbers = []\n",
    "for _ in range(5):\n",
    "    random_numbers.append(random.randint(1, 100))\n",
    "    print(\"Original list of random numbers:\", random_numbers)"
   ]
  },
  {
   "cell_type": "code",
   "execution_count": 41,
   "id": "5ffcb122-8de1-475f-872b-2fa924d008c8",
   "metadata": {},
   "outputs": [
    {
     "name": "stdout",
     "output_type": "stream",
     "text": [
      "date\n"
     ]
    }
   ],
   "source": [
    "#28. Write a code to create a list with strings and print the element at the third index.\n",
    "\n",
    "my_string_list = [\"apple\", \"banana\", \"cherry\", \"date\", \"elderberry\"]\n",
    "print(my_string_list[3])"
   ]
  },
  {
   "cell_type": "code",
   "execution_count": 42,
   "id": "50d840f0-d9cc-4a9b-bf06-55976d9a6c6a",
   "metadata": {},
   "outputs": [
    {
     "name": "stdout",
     "output_type": "stream",
     "text": [
      "{'a': 1, 'b': 3, 'c': 4}\n"
     ]
    }
   ],
   "source": [
    "#29. Write a code to combine two dictionaries into one and print the result.\n",
    "\n",
    "dict1 = {'a': 1, 'b': 2}\n",
    "dict2 = {'b': 3, 'c': 4}\n",
    "\n",
    "dict1.update(dict2)\n",
    "print(dict1)"
   ]
  },
  {
   "cell_type": "code",
   "execution_count": 43,
   "id": "6ddf7f6c-ab3a-4cb0-b408-8ec75a90198d",
   "metadata": {},
   "outputs": [
    {
     "name": "stdout",
     "output_type": "stream",
     "text": [
      "{'banana', 'date', 'apple', 'cherry'}\n"
     ]
    }
   ],
   "source": [
    "#30. Write a code to convert a list of strings into a set.\n",
    "\n",
    "my_list = [\"apple\", \"banana\", \"cherry\", \"apple\", \"date\"]\n",
    "my_set = set(my_list)\n",
    "print(my_set)"
   ]
  },
  {
   "cell_type": "code",
   "execution_count": null,
   "id": "49d9c969-f7ca-464c-8383-59d95a3a77aa",
   "metadata": {},
   "outputs": [],
   "source": []
  }
 ],
 "metadata": {
  "kernelspec": {
   "display_name": "Python 3 (ipykernel)",
   "language": "python",
   "name": "python3"
  },
  "language_info": {
   "codemirror_mode": {
    "name": "ipython",
    "version": 3
   },
   "file_extension": ".py",
   "mimetype": "text/x-python",
   "name": "python",
   "nbconvert_exporter": "python",
   "pygments_lexer": "ipython3",
   "version": "3.13.2"
  }
 },
 "nbformat": 4,
 "nbformat_minor": 5
}
